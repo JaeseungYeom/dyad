{
 "cells": [
  {
   "cell_type": "code",
   "execution_count": 1,
   "id": "86ed50dc-d4d6-4e78-be69-1d55b8362a46",
   "metadata": {
    "ExecuteTime": {
     "end_time": "2024-01-28T06:05:21.882558Z",
     "start_time": "2024-01-28T06:05:21.838181Z"
    },
    "scrolled": true
   },
   "outputs": [],
   "source": [
    "%load_ext autoreload"
   ]
  },
  {
   "cell_type": "code",
   "execution_count": 2,
   "id": "93bc48a5-30a9-4108-88a6-59861bddd0ce",
   "metadata": {
    "ExecuteTime": {
     "end_time": "2024-01-28T06:05:21.895263Z",
     "start_time": "2024-01-28T06:05:21.888559Z"
    }
   },
   "outputs": [],
   "source": [
    "%autoreload 2"
   ]
  },
  {
   "cell_type": "code",
   "execution_count": 3,
   "id": "4a47492d-40d0-4dea-b1a2-aa1f083239e3",
   "metadata": {
    "ExecuteTime": {
     "end_time": "2024-01-28T06:05:22.504400Z",
     "start_time": "2024-01-28T06:05:21.898712Z"
    }
   },
   "outputs": [
    {
     "name": "stdout",
     "output_type": "stream",
     "text": [
      "/usr/WS2/haridev/dyad/env/python/lib/python3.9/site-packages/yaml/__init__.py\n"
     ]
    }
   ],
   "source": [
    "import json\n",
    "import os\n",
    "import yaml\n",
    "print(yaml.__file__)\n",
    "from pathlib import Path\n",
    "from dask.distributed import Client\n",
    "import dask"
   ]
  },
  {
   "cell_type": "code",
   "execution_count": 4,
   "id": "7c006011",
   "metadata": {
    "ExecuteTime": {
     "end_time": "2024-01-28T06:05:22.532069Z",
     "start_time": "2024-01-28T06:05:22.508824Z"
    }
   },
   "outputs": [],
   "source": [
    "use_local=True"
   ]
  },
  {
   "cell_type": "code",
   "execution_count": 5,
   "id": "ef1dcd21-7001-47d4-b0e0-b9460b86556d",
   "metadata": {
    "ExecuteTime": {
     "end_time": "2024-01-28T06:05:22.559152Z",
     "start_time": "2024-01-28T06:05:22.535547Z"
    }
   },
   "outputs": [],
   "source": [
    "if not use_local:\n",
    "    with open(f'~/.dlio_profiler/configuration.yaml', 'r') as file:\n",
    "        dlp_yaml = yaml.safe_load(file)\n",
    "        app_root = dlp_yaml[\"app\"]\n",
    "else:\n",
    "    app_root = str(Path(os.getcwd()).parent.parent)"
   ]
  },
  {
   "cell_type": "code",
   "execution_count": 6,
   "id": "c310a43c-006c-4c36-9d54-d7056e9c0519",
   "metadata": {
    "ExecuteTime": {
     "end_time": "2024-01-28T06:05:22.591442Z",
     "start_time": "2024-01-28T06:05:22.562613Z"
    }
   },
   "outputs": [
    {
     "data": {
      "text/plain": [
       "['/usr/WS2/haridev/dyad/tests/integration',\n",
       " '/usr/WS2/haridev/dyad/tests/integration/dlio_benchmark/perf_analysis',\n",
       " '/collab/usr/gapps/python/build/spack-toss4.1/var/spack/environments/python/._view/75prb56irmif5ejtirjthpx6kq3gqo52/lib/python39.zip',\n",
       " '/collab/usr/gapps/python/build/spack-toss4.1/var/spack/environments/python/._view/75prb56irmif5ejtirjthpx6kq3gqo52/lib/python3.9',\n",
       " '/collab/usr/gapps/python/build/spack-toss4.1/var/spack/environments/python/._view/75prb56irmif5ejtirjthpx6kq3gqo52/lib/python3.9/lib-dynload',\n",
       " '',\n",
       " '/usr/WS2/haridev/dyad/env/python/lib/python3.9/site-packages']"
      ]
     },
     "execution_count": 6,
     "metadata": {},
     "output_type": "execute_result"
    }
   ],
   "source": [
    "# to make this notebook in dev mode.\n",
    "import sys\n",
    "sys.path.insert(0, app_root)\n",
    "sys.path"
   ]
  },
  {
   "cell_type": "code",
   "execution_count": 7,
   "id": "89d58cc4-dd7a-47f8-82a6-6ef2ea9a2bc0",
   "metadata": {
    "ExecuteTime": {
     "end_time": "2024-01-28T06:05:24.159702Z",
     "start_time": "2024-01-28T06:05:22.594801Z"
    }
   },
   "outputs": [
    {
     "name": "stdout",
     "output_type": "stream",
     "text": [
      "/usr/WS2/haridev/dyad/env/python/lib/python3.9/site-packages/dlp_analyzer/__init__.py\n"
     ]
    }
   ],
   "source": [
    "import dlp_analyzer\n",
    "print(dlp_analyzer.__file__)\n",
    "from dlp_analyzer.main import DLPAnalyzer,get_dlp_configuration,update_dlp_configuration,setup_logging,setup_dask_cluster, reset_dask_cluster, get_dlp_configuration"
   ]
  },
  {
   "cell_type": "code",
   "execution_count": 8,
   "id": "91b2872f",
   "metadata": {
    "ExecuteTime": {
     "end_time": "2024-01-28T06:05:24.196047Z",
     "start_time": "2024-01-28T06:05:24.163742Z"
    }
   },
   "outputs": [],
   "source": [
    "if not use_local:\n",
    "    dask_run_dir = os.path.join(app_root, \"dlp_analyzer\", \"dask\", \"run_dir\")\n",
    "    with open (os.path.join(dask_run_dir, f\"scheduler_{os.getenv('USER')}.json\"), \"r\") as f:\n",
    "        dask_scheduler = json.load(f)[\"address\"]\n",
    "else:\n",
    "    dask_scheduler = None"
   ]
  },
  {
   "cell_type": "code",
   "execution_count": 9,
   "id": "1b330315-f487-409a-b2c6-d6eab2894b87",
   "metadata": {
    "ExecuteTime": {
     "end_time": "2024-01-28T06:05:24.230333Z",
     "start_time": "2024-01-28T06:05:24.199492Z"
    }
   },
   "outputs": [],
   "source": [
    "app_name = \"dyad_dlio_unet3d\" # resnet cosmoflow unet3d mummi deepspeed dlio_resnet dlio_cosmoflow dyad_dlio_unet3d"
   ]
  },
  {
   "cell_type": "code",
   "execution_count": 10,
   "id": "6fe1d34c-f607-4c29-ad3e-e199276fd30c",
   "metadata": {
    "ExecuteTime": {
     "end_time": "2024-01-28T06:05:24.273508Z",
     "start_time": "2024-01-28T06:05:24.236621Z"
    }
   },
   "outputs": [],
   "source": [
    "def get_conditions_dyad_dlio_unet3d(json_object):\n",
    "    app_io_cond = \"getitem\" in json_object[\"cat\"] # dyad_dlio_unet3d\n",
    "    compute_cond = \"compute\" in json_object[\"name\"] # dyad_dlio_unet3d\n",
    "    io_cond = \"POSIX\" == json_object[\"cat\"] # dyad_dlio_unet3d\n",
    "    return app_io_cond, compute_cond, io_cond\n",
    "def get_conditions_cosmoflow(json_object):\n",
    "    app_io_cond = \"TFReader.parse_image\" in json_object[\"name\"] # Cosmoflow\n",
    "    compute_cond = \"compute\" in json_object[\"name\"] # Cosmoflow\n",
    "    io_cond = \"POSIX\" == json_object[\"cat\"] # Cosmoflow\n",
    "    return app_io_cond, compute_cond, io_cond\n",
    "\n",
    "def get_conditions_resnet(json_object):\n",
    "    app_io_cond = \"IO\" == json_object[\"cat\"] # Resnet50\n",
    "    compute_cond = \"cpu\" in json_object[\"name\"] or \"compute\" in json_object[\"cat\"] # Resnet50\n",
    "    io_cond = \"POSIX\" == json_object[\"cat\"] # Cosmoflow\n",
    "    return app_io_cond, compute_cond, io_cond\n",
    "\n",
    "def get_conditions_unet3d(json_object):\n",
    "    app_io_cond = \"NPZReader.read_index\" in json_object[\"name\"] # Unet3d\n",
    "    compute_cond = \"compute\" in json_object[\"name\"] # Unet3d\n",
    "    io_cond = \"POSIX\" == json_object[\"cat\"] # Cosmoflow\n",
    "    return app_io_cond, compute_cond, io_cond\n",
    "\n",
    "def get_conditions_dlio_resnet(json_object):\n",
    "    app_io_cond = \"read_index\" in json_object[\"name\"] # Unet3d\n",
    "    compute_cond = \"compute\" in json_object[\"name\"] # Unet3d\n",
    "    io_cond = \"POSIX\" == json_object[\"cat\"] # Cosmoflow\n",
    "    return app_io_cond, compute_cond, io_cond\n"
   ]
  },
  {
   "cell_type": "code",
   "execution_count": 11,
   "id": "face72a1-485a-4168-b87a-2171aad37691",
   "metadata": {
    "ExecuteTime": {
     "end_time": "2024-01-28T06:05:24.311538Z",
     "start_time": "2024-01-28T06:05:24.276922Z"
    }
   },
   "outputs": [],
   "source": [
    "condition_fn = None #\n",
    "if app_name == \"cosmoflow\":\n",
    "    filename = \"/usr/WS2/iopp/kogiou1/dlio_benchmark/hydra_log/cosmoflow/2023-10-31-10-27-24/.trace*.pfw.gz\"\n",
    "    condition_fn = get_conditions_cosmoflow\n",
    "elif app_name == \"dlio_cosmoflow\":\n",
    "    filename = \"/usr/workspace/iopp/kogiou1/dlio_benchmark/hydra_log/cosmoflow/2023-11-01-18-47-58/.trace*.pfw.gz\"\n",
    "    condition_fn = get_conditions_cosmoflow\n",
    "elif app_name == \"resnet\":\n",
    "    filename = \"/usr/workspace/iopp/dlio_paper_results/resnet_50_1node_4ppn/*.pfw.gz\"\n",
    "    condition_fn = get_conditions_resnet\n",
    "elif app_name == \"unet3d\":\n",
    "    filename = \"/usr/workspace/iopp/kogiou1/dlio_benchmark_logs/unet3d/node_32_ppn_4/.trace*.pfw.gz\"\n",
    "    condition_fn = get_conditions_unet3d\n",
    "elif app_name == \"mummi\":\n",
    "    filename = \"/usr/workspace/iopp/dlp_traces/mummi-32-node/trace*.pfw.gz\"\n",
    "elif app_name == \"deepspeed\":\n",
    "    filename = \"/usr/workspace/iopp/dlp_traces/deepspeed_8_4ppn/*.pfw.gz\"\n",
    "elif app_name == \"dlio_resnet\":\n",
    "    filename = \"/usr/workspace/iopp/kogiou1/dlio_benchmark/hydra_log/resnet50/2023-11-01-10-52-58/.trace*.pfw.gz\"\n",
    "    condition_fn = get_conditions_dlio_resnet\n",
    "elif app_name == \"dyad_dlio_unet3d\":\n",
    "    #filename = \"/usr/workspace/ice4hpc/dlio/dyad_logs/final_opts/n1_p8_br1/*.pfw\"\n",
    "    filename = \"/usr/workspace/ice4hpc/dlio/dyad_logs/01-27/n2_p8_br1/*.pfw\"\n",
    "    filename = \"/usr/WS2/haridev/dyad/tests/integration/dlio_benchmark/hydra_log/unet3d/2024-01-27-20-06-06/*.pfw\"\n",
    "    #filename = \"/usr/WS2/haridev/dyad/tests/integration/dlio_benchmark/hydra_log/unet3d/2024-01-27-20-16-14/*.pfw\"\n",
    "    condition_fn = get_conditions_dyad_dlio_unet3d\n",
    "else:\n",
    "    raise Exception(\"Unknown App name\")"
   ]
  },
  {
   "cell_type": "code",
   "execution_count": 12,
   "id": "d7d8637e",
   "metadata": {
    "ExecuteTime": {
     "end_time": "2024-01-28T06:05:24.355962Z",
     "start_time": "2024-01-28T06:05:24.314597Z"
    }
   },
   "outputs": [],
   "source": [
    "def dyad_function(json_object, current_dict, time_approximate,condition_fn):\n",
    "    d = {}\n",
    "    if \"args\" in json_object:\n",
    "        if \"file_size\" in json_object[\"args\"]:\n",
    "            d[\"size\"] = int(json_object[\"args\"][\"file_size\"])\n",
    "        elif \"step\" in json_object[\"args\"]:\n",
    "            d[\"step\"] = int(json_object[\"args\"][\"step\"])\n",
    "        elif \"epoch\" in json_object[\"args\"]:\n",
    "            d[\"epoch\"] = int(json_object[\"args\"][\"epoch\"])\n",
    "    return d"
   ]
  },
  {
   "cell_type": "code",
   "execution_count": 13,
   "id": "025a3289",
   "metadata": {
    "ExecuteTime": {
     "end_time": "2024-01-28T06:05:24.391880Z",
     "start_time": "2024-01-28T06:05:24.359776Z"
    }
   },
   "outputs": [],
   "source": [
    "dict_fn = None\n",
    "if app_name == \"dyad_dlio_unet3d\":\n",
    "    dict_fn = dyad_function"
   ]
  },
  {
   "cell_type": "code",
   "execution_count": 14,
   "id": "5f41509f",
   "metadata": {
    "ExecuteTime": {
     "end_time": "2024-01-28T06:05:24.426342Z",
     "start_time": "2024-01-28T06:05:24.395342Z"
    }
   },
   "outputs": [],
   "source": [
    "load_cols = {}\n",
    "if app_name == \"dyad_dlio_unet3d\":\n",
    "    load_cols = {'epoch': \"uint64[pyarrow]\",\n",
    "                 'step': \"uint64[pyarrow]\"}"
   ]
  },
  {
   "cell_type": "code",
   "execution_count": 15,
   "id": "d3a7cf5b-fbbc-4eee-9ed5-ce869f4541e6",
   "metadata": {
    "ExecuteTime": {
     "end_time": "2024-01-28T06:05:24.466527Z",
     "start_time": "2024-01-28T06:05:24.429111Z"
    }
   },
   "outputs": [],
   "source": [
    "conf = update_dlp_configuration(dask_scheduler=dask_scheduler, verbose=True, workers=16,\n",
    "                                log_file=f\"./dlp_{os.getenv('USER')}.log\", rebuild_index=False, time_approximate=True, \n",
    "                                host_pattern=r'lassen(\\d+)', time_granularity=1e6, skip_hostname=True, conditions=condition_fn)\n"
   ]
  },
  {
   "cell_type": "code",
   "execution_count": 16,
   "id": "9ae31f27-a26a-463a-b2e9-3adba8de7246",
   "metadata": {
    "ExecuteTime": {
     "end_time": "2024-01-28T06:05:24.509811Z",
     "start_time": "2024-01-28T06:05:24.469732Z"
    },
    "scrolled": true
   },
   "outputs": [
    {
     "data": {
      "text/plain": [
       "True"
      ]
     },
     "execution_count": 16,
     "metadata": {},
     "output_type": "execute_result"
    }
   ],
   "source": [
    "conf = get_dlp_configuration()\n",
    "conf.time_approximate"
   ]
  },
  {
   "cell_type": "code",
   "execution_count": 17,
   "id": "04428959-820f-4466-8ceb-778bcce93bf0",
   "metadata": {
    "ExecuteTime": {
     "end_time": "2024-01-28T06:05:24.562067Z",
     "start_time": "2024-01-28T06:05:24.512780Z"
    }
   },
   "outputs": [],
   "source": [
    "setup_logging()"
   ]
  },
  {
   "cell_type": "code",
   "execution_count": 18,
   "id": "68e813b7-6b95-4f31-b223-1fb50774db50",
   "metadata": {
    "ExecuteTime": {
     "end_time": "2024-01-28T06:05:28.324395Z",
     "start_time": "2024-01-28T06:05:24.565286Z"
    }
   },
   "outputs": [
    {
     "name": "stderr",
     "output_type": "stream",
     "text": [
      "[INFO] [22:05:28] Initialized Client with 16 workers and link http://127.0.0.1:8787/status [/usr/WS2/haridev/dyad/env/python/lib/python3.9/site-packages/dlp_analyzer/main.py:670]\n",
      "2024-01-27 22:05:28,614 - distributed.nanny - WARNING - Restarting worker\n",
      "2024-01-27 22:05:28,663 - distributed.nanny - WARNING - Restarting worker\n",
      "2024-01-27 22:05:28,693 - distributed.nanny - WARNING - Restarting worker\n",
      "2024-01-27 22:05:28,733 - distributed.nanny - WARNING - Restarting worker\n",
      "2024-01-27 22:05:28,774 - distributed.nanny - WARNING - Restarting worker\n",
      "2024-01-27 22:05:28,778 - distributed.nanny - WARNING - Restarting worker\n",
      "2024-01-27 22:05:28,794 - distributed.nanny - WARNING - Restarting worker\n",
      "2024-01-27 22:05:28,844 - distributed.nanny - WARNING - Restarting worker\n",
      "2024-01-27 22:05:28,861 - distributed.nanny - WARNING - Restarting worker\n",
      "2024-01-27 22:05:28,867 - distributed.nanny - WARNING - Restarting worker\n",
      "2024-01-27 22:05:28,883 - distributed.nanny - WARNING - Restarting worker\n",
      "2024-01-27 22:05:28,920 - distributed.nanny - WARNING - Restarting worker\n",
      "2024-01-27 22:05:28,925 - distributed.nanny - WARNING - Restarting worker\n",
      "2024-01-27 22:05:28,964 - distributed.nanny - WARNING - Restarting worker\n",
      "2024-01-27 22:05:28,969 - distributed.nanny - WARNING - Restarting worker\n",
      "2024-01-27 22:05:28,988 - distributed.nanny - WARNING - Restarting worker\n"
     ]
    }
   ],
   "source": [
    "setup_dask_cluster()"
   ]
  },
  {
   "cell_type": "code",
   "execution_count": 19,
   "id": "236e50a4-03b6-4895-a0a5-d473f5e391b5",
   "metadata": {
    "ExecuteTime": {
     "end_time": "2024-01-28T06:05:31.851066Z",
     "start_time": "2024-01-28T06:05:28.328736Z"
    },
    "scrolled": true
   },
   "outputs": [
    {
     "name": "stderr",
     "output_type": "stream",
     "text": [
      "[INFO] [22:05:31] Restarting all workers [/usr/WS2/haridev/dyad/env/python/lib/python3.9/site-packages/dlp_analyzer/main.py:658]\n"
     ]
    }
   ],
   "source": [
    "reset_dask_cluster()"
   ]
  },
  {
   "cell_type": "code",
   "execution_count": 20,
   "id": "b37727ee-a221-43ab-81e1-cdf98c2cf314",
   "metadata": {
    "ExecuteTime": {
     "end_time": "2024-01-28T06:05:35.639057Z",
     "start_time": "2024-01-28T06:05:31.855492Z"
    },
    "scrolled": true
   },
   "outputs": [
    {
     "name": "stderr",
     "output_type": "stream",
     "text": [
      "[INFO] [22:05:31] Created index for 0 files [/usr/WS2/haridev/dyad/env/python/lib/python3.9/site-packages/dlp_analyzer/main.py:367]\n",
      "[INFO] [22:05:31] Total size of all files are <dask.bag.core.Item object at 0x1555197ec430> bytes [/usr/WS2/haridev/dyad/env/python/lib/python3.9/site-packages/dlp_analyzer/main.py:369]\n",
      "[INFO] [22:05:35] Loaded events [/usr/WS2/haridev/dyad/env/python/lib/python3.9/site-packages/dlp_analyzer/main.py:424]\n",
      "[INFO] [22:05:35] Loaded plots with slope threshold: 45 [/usr/WS2/haridev/dyad/env/python/lib/python3.9/site-packages/dlp_analyzer/main.py:430]\n"
     ]
    }
   ],
   "source": [
    "analyzer = DLPAnalyzer(filename, load_fn=dict_fn, load_cols=load_cols)"
   ]
  },
  {
   "cell_type": "code",
   "execution_count": 21,
   "id": "c8c4b2d0-76c4-46df-9a35-068c98aaa7f8",
   "metadata": {
    "ExecuteTime": {
     "end_time": "2024-01-28T06:05:35.760068Z",
     "start_time": "2024-01-28T06:05:35.642411Z"
    }
   },
   "outputs": [
    {
     "data": {
      "text/html": [
       "<div>\n",
       "<style scoped>\n",
       "    .dataframe tbody tr th:only-of-type {\n",
       "        vertical-align: middle;\n",
       "    }\n",
       "\n",
       "    .dataframe tbody tr th {\n",
       "        vertical-align: top;\n",
       "    }\n",
       "\n",
       "    .dataframe thead th {\n",
       "        text-align: right;\n",
       "    }\n",
       "</style>\n",
       "<table border=\"1\" class=\"dataframe\">\n",
       "  <thead>\n",
       "    <tr style=\"text-align: right;\">\n",
       "      <th></th>\n",
       "      <th>name</th>\n",
       "      <th>cat</th>\n",
       "      <th>pid</th>\n",
       "      <th>tid</th>\n",
       "      <th>ts</th>\n",
       "      <th>te</th>\n",
       "      <th>dur</th>\n",
       "      <th>tinterval</th>\n",
       "      <th>trange</th>\n",
       "      <th>hostname</th>\n",
       "      <th>compute_time</th>\n",
       "      <th>io_time</th>\n",
       "      <th>app_io_time</th>\n",
       "      <th>total_time</th>\n",
       "      <th>filename</th>\n",
       "      <th>phase</th>\n",
       "      <th>size</th>\n",
       "      <th>epoch</th>\n",
       "      <th>step</th>\n",
       "    </tr>\n",
       "  </thead>\n",
       "  <tbody>\n",
       "    <tr>\n",
       "      <th>0</th>\n",
       "      <td>DLIOBenchmark.__init__</td>\n",
       "      <td>dlio_benchmark</td>\n",
       "      <td>1</td>\n",
       "      <td>1846469</td>\n",
       "      <td>28812083</td>\n",
       "      <td>28812114</td>\n",
       "      <td>31</td>\n",
       "      <td>&lt;NA&gt;</td>\n",
       "      <td>28.0</td>\n",
       "      <td>corona171</td>\n",
       "      <td>&lt;NA&gt;</td>\n",
       "      <td>&lt;NA&gt;</td>\n",
       "      <td>&lt;NA&gt;</td>\n",
       "      <td>0</td>\n",
       "      <td>&lt;NA&gt;</td>\n",
       "      <td>0</td>\n",
       "      <td>&lt;NA&gt;</td>\n",
       "      <td>&lt;NA&gt;</td>\n",
       "      <td>&lt;NA&gt;</td>\n",
       "    </tr>\n",
       "    <tr>\n",
       "      <th>1</th>\n",
       "      <td>FileStorage.get_uri</td>\n",
       "      <td>storage</td>\n",
       "      <td>1</td>\n",
       "      <td>1846469</td>\n",
       "      <td>28813871</td>\n",
       "      <td>28813880</td>\n",
       "      <td>9</td>\n",
       "      <td>&lt;NA&gt;</td>\n",
       "      <td>28.0</td>\n",
       "      <td>corona171</td>\n",
       "      <td>&lt;NA&gt;</td>\n",
       "      <td>&lt;NA&gt;</td>\n",
       "      <td>&lt;NA&gt;</td>\n",
       "      <td>0</td>\n",
       "      <td>&lt;NA&gt;</td>\n",
       "      <td>0</td>\n",
       "      <td>&lt;NA&gt;</td>\n",
       "      <td>&lt;NA&gt;</td>\n",
       "      <td>&lt;NA&gt;</td>\n",
       "    </tr>\n",
       "    <tr>\n",
       "      <th>2</th>\n",
       "      <td>opendir</td>\n",
       "      <td>POSIX</td>\n",
       "      <td>1</td>\n",
       "      <td>1846469</td>\n",
       "      <td>28813967</td>\n",
       "      <td>28818878</td>\n",
       "      <td>4911</td>\n",
       "      <td>&lt;NA&gt;</td>\n",
       "      <td>28.0</td>\n",
       "      <td>corona171</td>\n",
       "      <td>&lt;NA&gt;</td>\n",
       "      <td>4911</td>\n",
       "      <td>&lt;NA&gt;</td>\n",
       "      <td>4911</td>\n",
       "      <td>/p/lustre2/haridev/dyad/dlio_benchmark/dyad_un...</td>\n",
       "      <td>2</td>\n",
       "      <td>&lt;NA&gt;</td>\n",
       "      <td>&lt;NA&gt;</td>\n",
       "      <td>&lt;NA&gt;</td>\n",
       "    </tr>\n",
       "    <tr>\n",
       "      <th>3</th>\n",
       "      <td>FileStorage.walk_node</td>\n",
       "      <td>storage</td>\n",
       "      <td>1</td>\n",
       "      <td>1846469</td>\n",
       "      <td>28813860</td>\n",
       "      <td>28820225</td>\n",
       "      <td>6365</td>\n",
       "      <td>&lt;NA&gt;</td>\n",
       "      <td>28.0</td>\n",
       "      <td>corona171</td>\n",
       "      <td>&lt;NA&gt;</td>\n",
       "      <td>&lt;NA&gt;</td>\n",
       "      <td>&lt;NA&gt;</td>\n",
       "      <td>0</td>\n",
       "      <td>&lt;NA&gt;</td>\n",
       "      <td>0</td>\n",
       "      <td>&lt;NA&gt;</td>\n",
       "      <td>&lt;NA&gt;</td>\n",
       "      <td>&lt;NA&gt;</td>\n",
       "    </tr>\n",
       "    <tr>\n",
       "      <th>4</th>\n",
       "      <td>FileStorage.get_uri</td>\n",
       "      <td>storage</td>\n",
       "      <td>1</td>\n",
       "      <td>1846469</td>\n",
       "      <td>28820298</td>\n",
       "      <td>28820305</td>\n",
       "      <td>7</td>\n",
       "      <td>&lt;NA&gt;</td>\n",
       "      <td>28.0</td>\n",
       "      <td>corona171</td>\n",
       "      <td>&lt;NA&gt;</td>\n",
       "      <td>&lt;NA&gt;</td>\n",
       "      <td>&lt;NA&gt;</td>\n",
       "      <td>0</td>\n",
       "      <td>&lt;NA&gt;</td>\n",
       "      <td>0</td>\n",
       "      <td>&lt;NA&gt;</td>\n",
       "      <td>&lt;NA&gt;</td>\n",
       "      <td>&lt;NA&gt;</td>\n",
       "    </tr>\n",
       "  </tbody>\n",
       "</table>\n",
       "</div>"
      ],
      "text/plain": [
       "                     name             cat  pid      tid        ts        te  \\\n",
       "0  DLIOBenchmark.__init__  dlio_benchmark    1  1846469  28812083  28812114   \n",
       "1     FileStorage.get_uri         storage    1  1846469  28813871  28813880   \n",
       "2                 opendir           POSIX    1  1846469  28813967  28818878   \n",
       "3   FileStorage.walk_node         storage    1  1846469  28813860  28820225   \n",
       "4     FileStorage.get_uri         storage    1  1846469  28820298  28820305   \n",
       "\n",
       "    dur  tinterval  trange   hostname  compute_time  io_time  app_io_time  \\\n",
       "0    31       <NA>    28.0  corona171          <NA>     <NA>         <NA>   \n",
       "1     9       <NA>    28.0  corona171          <NA>     <NA>         <NA>   \n",
       "2  4911       <NA>    28.0  corona171          <NA>     4911         <NA>   \n",
       "3  6365       <NA>    28.0  corona171          <NA>     <NA>         <NA>   \n",
       "4     7       <NA>    28.0  corona171          <NA>     <NA>         <NA>   \n",
       "\n",
       "   total_time                                           filename  phase  size  \\\n",
       "0           0                                               <NA>      0  <NA>   \n",
       "1           0                                               <NA>      0  <NA>   \n",
       "2        4911  /p/lustre2/haridev/dyad/dlio_benchmark/dyad_un...      2  <NA>   \n",
       "3           0                                               <NA>      0  <NA>   \n",
       "4           0                                               <NA>      0  <NA>   \n",
       "\n",
       "   epoch  step  \n",
       "0   <NA>  <NA>  \n",
       "1   <NA>  <NA>  \n",
       "2   <NA>  <NA>  \n",
       "3   <NA>  <NA>  \n",
       "4   <NA>  <NA>  "
      ]
     },
     "execution_count": 21,
     "metadata": {},
     "output_type": "execute_result"
    }
   ],
   "source": [
    "analyzer.events.head()"
   ]
  },
  {
   "cell_type": "code",
   "execution_count": 22,
   "id": "34c6fa12-ce7f-4bc9-b24e-c3b59b739147",
   "metadata": {
    "ExecuteTime": {
     "end_time": "2024-01-28T06:05:35.812767Z",
     "start_time": "2024-01-28T06:05:35.763293Z"
    },
    "scrolled": true
   },
   "outputs": [],
   "source": [
    "#analyzer.events[[\"io_time\",\"compute_time\",\"app_io_time\"]].max().compute() / 1e6"
   ]
  },
  {
   "cell_type": "code",
   "execution_count": 23,
   "id": "f057a7a8-e3b3-4ed6-b1b9-769d52c7be4d",
   "metadata": {
    "ExecuteTime": {
     "end_time": "2024-01-28T06:05:36.789654Z",
     "start_time": "2024-01-28T06:05:35.815552Z"
    },
    "scrolled": true
   },
   "outputs": [
    {
     "name": "stderr",
     "output_type": "stream",
     "text": [
      "[INFO] [22:05:35] Total number of events in the workload are 290165 [/usr/WS2/haridev/dyad/env/python/lib/python3.9/site-packages/dlp_analyzer/main.py:522]\n",
      "[INFO] [22:05:36] Approximate True 70204908, 6515391.0, 0.0, 0.0,                6515391.0, 0.0, 0.0, 0.0 [/usr/WS2/haridev/dyad/env/python/lib/python3.9/site-packages/dlp_analyzer/main.py:476]\n"
     ]
    },
    {
     "data": {
      "text/html": [
       "<pre style=\"white-space:pre;overflow-x:auto;line-height:normal;font-family:Menlo,'DejaVu Sans Mono',consolas,'Courier New',monospace\">╭──────────────────────────────────────────────────── Summary ────────────────────────────────────────────────────╮\n",
       "│ <span style=\"color: #008080; text-decoration-color: #008080\"> Allocation   </span> Scheduler Allocation Details                                                                     │\n",
       "│ <span style=\"color: #008080; text-decoration-color: #008080\">              </span> ├── Nodes: 2                                                                                     │\n",
       "│ <span style=\"color: #008080; text-decoration-color: #008080\">              </span> ├── Processes: 56                                                                                │\n",
       "│ <span style=\"color: #008080; text-decoration-color: #008080\">              </span> ├── Thread allocations across nodes (includes dynamically created threads)                       │\n",
       "│ <span style=\"color: #008080; text-decoration-color: #008080\">              </span> │   ├── Compute: 0                                                                               │\n",
       "│ <span style=\"color: #008080; text-decoration-color: #008080\">              </span> │   └── I/O: 32                                                                                  │\n",
       "│ <span style=\"color: #008080; text-decoration-color: #008080\">              </span> └── Events Recorded: 290K                                                                        │\n",
       "│ <span style=\"color: #008080; text-decoration-color: #008080\"> Dataset      </span> Description of Dataset Used                                                                      │\n",
       "│ <span style=\"color: #008080; text-decoration-color: #008080\">              </span> └── Files: 347                                                                                   │\n",
       "│ <span style=\"color: #008080; text-decoration-color: #008080\"> I/O Behavior </span> Behavior of Application                                                                          │\n",
       "│ <span style=\"color: #008080; text-decoration-color: #008080\">              </span> ├── Split of Time in application                                                                 │\n",
       "│ <span style=\"color: #008080; text-decoration-color: #008080\">              </span> │   ├── Total Time: 70.205 sec                                                                   │\n",
       "│ <span style=\"color: #008080; text-decoration-color: #008080\">              </span> │   └── Overall I/O: 6.515 sec                                                                   │\n",
       "│ <span style=\"color: #008080; text-decoration-color: #008080\">              </span> └── Metrics by function                                                                          │\n",
       "│ <span style=\"color: #008080; text-decoration-color: #008080\">              </span>     ├── Function       |count |                  size                   |                        │\n",
       "│ <span style=\"color: #008080; text-decoration-color: #008080\">              </span>     ├──                |      |min   |25    |mean  |median|75    |max   |                        │\n",
       "│ <span style=\"color: #008080; text-decoration-color: #008080\">              </span>     ├── opendir        |16    |NA    |nan   |nan   |NA    |nan   |NA    |                        │\n",
       "│ <span style=\"color: #008080; text-decoration-color: #008080\">              </span>     ├── __xstat64      |24    |NA    |nan   |nan   |NA    |nan   |NA    |                        │\n",
       "│ <span style=\"color: #008080; text-decoration-color: #008080\">              </span>     ├── mkdir          |8     |NA    |nan   |nan   |NA    |nan   |NA    |                        │\n",
       "│ <span style=\"color: #008080; text-decoration-color: #008080\">              </span>     ├── open64         |3K    |NA    |nan   |nan   |NA    |nan   |NA    |                        │\n",
       "│ <span style=\"color: #008080; text-decoration-color: #008080\">              </span>     ├── __fxstat64     |5K    |NA    |nan   |nan   |NA    |nan   |NA    |                        │\n",
       "│ <span style=\"color: #008080; text-decoration-color: #008080\">              </span>     ├── lseek64        |136K  |NA    |nan   |nan   |NA    |nan   |NA    |                        │\n",
       "│ <span style=\"color: #008080; text-decoration-color: #008080\">              </span>     ├── write          |583   |55    |73    |3MB   |183   |2MB   |476MB |                        │\n",
       "│ <span style=\"color: #008080; text-decoration-color: #008080\">              </span>     ├── close          |5K    |NA    |nan   |nan   |NA    |nan   |NA    |                        │\n",
       "│ <span style=\"color: #008080; text-decoration-color: #008080\">              </span>     ├── readlink       |5K    |NA    |nan   |nan   |NA    |nan   |NA    |                        │\n",
       "│ <span style=\"color: #008080; text-decoration-color: #008080\">              </span>     ├── read           |66K   |NA    |4KB   |368KB |4KB   |252KB |4MB   |                        │\n",
       "│ <span style=\"color: #008080; text-decoration-color: #008080\">              </span>     ├── open           |3K    |NA    |nan   |nan   |NA    |nan   |NA    |                        │\n",
       "│ <span style=\"color: #008080; text-decoration-color: #008080\">              </span>     ├── fcntl          |5K    |NA    |nan   |nan   |NA    |nan   |NA    |                        │\n",
       "│ <span style=\"color: #008080; text-decoration-color: #008080\">              </span>     ├── lseek          |5K    |NA    |nan   |nan   |NA    |nan   |NA    |                        │\n",
       "│ <span style=\"color: #008080; text-decoration-color: #008080\">              </span>     ├── __xstat        |71    |NA    |nan   |nan   |NA    |nan   |NA    |                        │\n",
       "│ <span style=\"color: #008080; text-decoration-color: #008080\">              </span>     └── fsync          |69    |NA    |nan   |nan   |NA    |nan   |NA    |                        │\n",
       "╰─────────────────────────────────────────────────────────────────────────────────────────────────────────────────╯\n",
       "</pre>\n"
      ],
      "text/plain": [
       "╭──────────────────────────────────────────────────── Summary ────────────────────────────────────────────────────╮\n",
       "│ \u001b[36m \u001b[0m\u001b[36mAllocation  \u001b[0m\u001b[36m \u001b[0m Scheduler Allocation Details                                                                     │\n",
       "│ \u001b[36m              \u001b[0m ├── Nodes: 2                                                                                     │\n",
       "│ \u001b[36m              \u001b[0m ├── Processes: 56                                                                                │\n",
       "│ \u001b[36m              \u001b[0m ├── Thread allocations across nodes (includes dynamically created threads)                       │\n",
       "│ \u001b[36m              \u001b[0m │   ├── Compute: 0                                                                               │\n",
       "│ \u001b[36m              \u001b[0m │   └── I/O: 32                                                                                  │\n",
       "│ \u001b[36m              \u001b[0m └── Events Recorded: 290K                                                                        │\n",
       "│ \u001b[36m \u001b[0m\u001b[36mDataset     \u001b[0m\u001b[36m \u001b[0m Description of Dataset Used                                                                      │\n",
       "│ \u001b[36m              \u001b[0m └── Files: 347                                                                                   │\n",
       "│ \u001b[36m \u001b[0m\u001b[36mI/O Behavior\u001b[0m\u001b[36m \u001b[0m Behavior of Application                                                                          │\n",
       "│ \u001b[36m              \u001b[0m ├── Split of Time in application                                                                 │\n",
       "│ \u001b[36m              \u001b[0m │   ├── Total Time: 70.205 sec                                                                   │\n",
       "│ \u001b[36m              \u001b[0m │   └── Overall I/O: 6.515 sec                                                                   │\n",
       "│ \u001b[36m              \u001b[0m └── Metrics by function                                                                          │\n",
       "│ \u001b[36m              \u001b[0m     ├── Function       |count |                  size                   |                        │\n",
       "│ \u001b[36m              \u001b[0m     ├──                |      |min   |25    |mean  |median|75    |max   |                        │\n",
       "│ \u001b[36m              \u001b[0m     ├── opendir        |16    |NA    |nan   |nan   |NA    |nan   |NA    |                        │\n",
       "│ \u001b[36m              \u001b[0m     ├── __xstat64      |24    |NA    |nan   |nan   |NA    |nan   |NA    |                        │\n",
       "│ \u001b[36m              \u001b[0m     ├── mkdir          |8     |NA    |nan   |nan   |NA    |nan   |NA    |                        │\n",
       "│ \u001b[36m              \u001b[0m     ├── open64         |3K    |NA    |nan   |nan   |NA    |nan   |NA    |                        │\n",
       "│ \u001b[36m              \u001b[0m     ├── __fxstat64     |5K    |NA    |nan   |nan   |NA    |nan   |NA    |                        │\n",
       "│ \u001b[36m              \u001b[0m     ├── lseek64        |136K  |NA    |nan   |nan   |NA    |nan   |NA    |                        │\n",
       "│ \u001b[36m              \u001b[0m     ├── write          |583   |55    |73    |3MB   |183   |2MB   |476MB |                        │\n",
       "│ \u001b[36m              \u001b[0m     ├── close          |5K    |NA    |nan   |nan   |NA    |nan   |NA    |                        │\n",
       "│ \u001b[36m              \u001b[0m     ├── readlink       |5K    |NA    |nan   |nan   |NA    |nan   |NA    |                        │\n",
       "│ \u001b[36m              \u001b[0m     ├── read           |66K   |NA    |4KB   |368KB |4KB   |252KB |4MB   |                        │\n",
       "│ \u001b[36m              \u001b[0m     ├── open           |3K    |NA    |nan   |nan   |NA    |nan   |NA    |                        │\n",
       "│ \u001b[36m              \u001b[0m     ├── fcntl          |5K    |NA    |nan   |nan   |NA    |nan   |NA    |                        │\n",
       "│ \u001b[36m              \u001b[0m     ├── lseek          |5K    |NA    |nan   |nan   |NA    |nan   |NA    |                        │\n",
       "│ \u001b[36m              \u001b[0m     ├── __xstat        |71    |NA    |nan   |nan   |NA    |nan   |NA    |                        │\n",
       "│ \u001b[36m              \u001b[0m     └── fsync          |69    |NA    |nan   |nan   |NA    |nan   |NA    |                        │\n",
       "╰─────────────────────────────────────────────────────────────────────────────────────────────────────────────────╯\n"
      ]
     },
     "metadata": {},
     "output_type": "display_data"
    }
   ],
   "source": [
    "# hydra_log/cosmoflow/2023-11-01-18-47-58/\n",
    "items = analyzer.summary()\n",
    "items"
   ]
  },
  {
   "cell_type": "code",
   "execution_count": 24,
   "id": "c22acd72",
   "metadata": {
    "ExecuteTime": {
     "end_time": "2024-01-28T06:05:36.984041Z",
     "start_time": "2024-01-28T06:05:36.792635Z"
    }
   },
   "outputs": [
    {
     "data": {
      "text/html": [
       "<div>\n",
       "<style scoped>\n",
       "    .dataframe tbody tr th:only-of-type {\n",
       "        vertical-align: middle;\n",
       "    }\n",
       "\n",
       "    .dataframe tbody tr th {\n",
       "        vertical-align: top;\n",
       "    }\n",
       "\n",
       "    .dataframe thead th {\n",
       "        text-align: right;\n",
       "    }\n",
       "</style>\n",
       "<table border=\"1\" class=\"dataframe\">\n",
       "  <thead>\n",
       "    <tr style=\"text-align: right;\">\n",
       "      <th></th>\n",
       "      <th>name</th>\n",
       "      <th>cat</th>\n",
       "      <th>pid</th>\n",
       "      <th>tid</th>\n",
       "      <th>ts</th>\n",
       "      <th>te</th>\n",
       "      <th>dur</th>\n",
       "      <th>tinterval</th>\n",
       "      <th>trange</th>\n",
       "      <th>hostname</th>\n",
       "      <th>compute_time</th>\n",
       "      <th>io_time</th>\n",
       "      <th>app_io_time</th>\n",
       "      <th>total_time</th>\n",
       "      <th>filename</th>\n",
       "      <th>phase</th>\n",
       "      <th>size</th>\n",
       "      <th>epoch</th>\n",
       "      <th>step</th>\n",
       "    </tr>\n",
       "  </thead>\n",
       "  <tbody>\n",
       "  </tbody>\n",
       "</table>\n",
       "</div>"
      ],
      "text/plain": [
       "Empty DataFrame\n",
       "Columns: [name, cat, pid, tid, ts, te, dur, tinterval, trange, hostname, compute_time, io_time, app_io_time, total_time, filename, phase, size, epoch, step]\n",
       "Index: []"
      ]
     },
     "execution_count": 24,
     "metadata": {},
     "output_type": "execute_result"
    }
   ],
   "source": [
    "analyzer.events.query(\"name == 'BaseTorchDataset.__getitem__'\").compute()"
   ]
  },
  {
   "cell_type": "code",
   "execution_count": 25,
   "id": "f645f8ac",
   "metadata": {
    "ExecuteTime": {
     "end_time": "2024-01-28T06:05:37.031778Z",
     "start_time": "2024-01-28T06:05:36.986700Z"
    }
   },
   "outputs": [],
   "source": [
    "import pandas as pd\n",
    "pd.set_option('display.max_rows', 1000)"
   ]
  },
  {
   "cell_type": "code",
   "execution_count": 26,
   "id": "4d772781",
   "metadata": {
    "ExecuteTime": {
     "end_time": "2024-01-28T06:05:37.281689Z",
     "start_time": "2024-01-28T06:05:37.034756Z"
    }
   },
   "outputs": [
    {
     "data": {
      "text/html": [
       "<div>\n",
       "<style scoped>\n",
       "    .dataframe tbody tr th:only-of-type {\n",
       "        vertical-align: middle;\n",
       "    }\n",
       "\n",
       "    .dataframe tbody tr th {\n",
       "        vertical-align: top;\n",
       "    }\n",
       "\n",
       "    .dataframe thead th {\n",
       "        text-align: right;\n",
       "    }\n",
       "</style>\n",
       "<table border=\"1\" class=\"dataframe\">\n",
       "  <thead>\n",
       "    <tr style=\"text-align: right;\">\n",
       "      <th></th>\n",
       "      <th>dur</th>\n",
       "      <th>size</th>\n",
       "      <th>bw_mbps</th>\n",
       "    </tr>\n",
       "    <tr>\n",
       "      <th>step</th>\n",
       "      <th></th>\n",
       "      <th></th>\n",
       "      <th></th>\n",
       "    </tr>\n",
       "  </thead>\n",
       "  <tbody>\n",
       "  </tbody>\n",
       "</table>\n",
       "</div>"
      ],
      "text/plain": [
       "Empty DataFrame\n",
       "Columns: [dur, size, bw_mbps]\n",
       "Index: []"
      ]
     },
     "execution_count": 26,
     "metadata": {},
     "output_type": "execute_result"
    }
   ],
   "source": [
    "get_item = analyzer.events.query(\"name == 'BaseTorchDataset.__getitem__'\").\\\n",
    "            groupby([\"trange\",\"pid\",\"tid\",\"step\"]).agg({\"dur\":sum, \"size\":sum}).\\\n",
    "            groupby([\"trange\",\"step\"]).agg({\"dur\":max, \"size\":sum}).\\\n",
    "            groupby([\"step\"]).agg({\"dur\":sum, \"size\":sum}).compute()\n",
    "get_item[\"bw_mbps\"] = get_item[\"size\"]/1024**2/get_item[\"dur\"]*1e6\n",
    "get_item\n"
   ]
  },
  {
   "cell_type": "code",
   "execution_count": 27,
   "id": "fd5798d3",
   "metadata": {
    "ExecuteTime": {
     "end_time": "2024-01-28T06:05:37.578043Z",
     "start_time": "2024-01-28T06:05:37.284102Z"
    }
   },
   "outputs": [
    {
     "data": {
      "text/html": [
       "<div>\n",
       "<style scoped>\n",
       "    .dataframe tbody tr th:only-of-type {\n",
       "        vertical-align: middle;\n",
       "    }\n",
       "\n",
       "    .dataframe tbody tr th {\n",
       "        vertical-align: top;\n",
       "    }\n",
       "\n",
       "    .dataframe thead th {\n",
       "        text-align: right;\n",
       "    }\n",
       "</style>\n",
       "<table border=\"1\" class=\"dataframe\">\n",
       "  <thead>\n",
       "    <tr style=\"text-align: right;\">\n",
       "      <th></th>\n",
       "      <th>dur</th>\n",
       "      <th>size</th>\n",
       "      <th>bw_mbps</th>\n",
       "    </tr>\n",
       "    <tr>\n",
       "      <th>step</th>\n",
       "      <th></th>\n",
       "      <th></th>\n",
       "      <th></th>\n",
       "    </tr>\n",
       "  </thead>\n",
       "  <tbody>\n",
       "    <tr>\n",
       "      <th>1</th>\n",
       "      <td>8969676</td>\n",
       "      <td>201283584</td>\n",
       "      <td>21.400883</td>\n",
       "    </tr>\n",
       "    <tr>\n",
       "      <th>2</th>\n",
       "      <td>4938643</td>\n",
       "      <td>201283584</td>\n",
       "      <td>38.868771</td>\n",
       "    </tr>\n",
       "    <tr>\n",
       "      <th>3</th>\n",
       "      <td>3436547</td>\n",
       "      <td>201283584</td>\n",
       "      <td>55.858100</td>\n",
       "    </tr>\n",
       "    <tr>\n",
       "      <th>4</th>\n",
       "      <td>2582914</td>\n",
       "      <td>201283584</td>\n",
       "      <td>74.318767</td>\n",
       "    </tr>\n",
       "    <tr>\n",
       "      <th>5</th>\n",
       "      <td>540996</td>\n",
       "      <td>201283584</td>\n",
       "      <td>354.825145</td>\n",
       "    </tr>\n",
       "    <tr>\n",
       "      <th>6</th>\n",
       "      <td>515565</td>\n",
       "      <td>201283584</td>\n",
       "      <td>372.327416</td>\n",
       "    </tr>\n",
       "    <tr>\n",
       "      <th>7</th>\n",
       "      <td>125295</td>\n",
       "      <td>201283584</td>\n",
       "      <td>1532.056222</td>\n",
       "    </tr>\n",
       "    <tr>\n",
       "      <th>8</th>\n",
       "      <td>163435</td>\n",
       "      <td>201283584</td>\n",
       "      <td>1174.528004</td>\n",
       "    </tr>\n",
       "    <tr>\n",
       "      <th>9</th>\n",
       "      <td>55500</td>\n",
       "      <td>201283584</td>\n",
       "      <td>3458.720439</td>\n",
       "    </tr>\n",
       "    <tr>\n",
       "      <th>10</th>\n",
       "      <td>81733</td>\n",
       "      <td>201283584</td>\n",
       "      <td>2348.610529</td>\n",
       "    </tr>\n",
       "    <tr>\n",
       "      <th>11</th>\n",
       "      <td>129335</td>\n",
       "      <td>201283584</td>\n",
       "      <td>1484.199825</td>\n",
       "    </tr>\n",
       "    <tr>\n",
       "      <th>12</th>\n",
       "      <td>151079</td>\n",
       "      <td>201283584</td>\n",
       "      <td>1270.586808</td>\n",
       "    </tr>\n",
       "    <tr>\n",
       "      <th>13</th>\n",
       "      <td>116262</td>\n",
       "      <td>201283584</td>\n",
       "      <td>1651.089646</td>\n",
       "    </tr>\n",
       "    <tr>\n",
       "      <th>14</th>\n",
       "      <td>166410</td>\n",
       "      <td>201283584</td>\n",
       "      <td>1153.530343</td>\n",
       "    </tr>\n",
       "    <tr>\n",
       "      <th>15</th>\n",
       "      <td>167225</td>\n",
       "      <td>201283584</td>\n",
       "      <td>1147.908413</td>\n",
       "    </tr>\n",
       "    <tr>\n",
       "      <th>16</th>\n",
       "      <td>291999</td>\n",
       "      <td>201283584</td>\n",
       "      <td>657.396033</td>\n",
       "    </tr>\n",
       "    <tr>\n",
       "      <th>17</th>\n",
       "      <td>200940</td>\n",
       "      <td>201283584</td>\n",
       "      <td>955.304988</td>\n",
       "    </tr>\n",
       "    <tr>\n",
       "      <th>18</th>\n",
       "      <td>186395</td>\n",
       "      <td>201283584</td>\n",
       "      <td>1029.850502</td>\n",
       "    </tr>\n",
       "    <tr>\n",
       "      <th>19</th>\n",
       "      <td>186498</td>\n",
       "      <td>201283584</td>\n",
       "      <td>1029.281732</td>\n",
       "    </tr>\n",
       "    <tr>\n",
       "      <th>20</th>\n",
       "      <td>245686</td>\n",
       "      <td>201283584</td>\n",
       "      <td>781.318367</td>\n",
       "    </tr>\n",
       "    <tr>\n",
       "      <th>21</th>\n",
       "      <td>116016</td>\n",
       "      <td>134189056</td>\n",
       "      <td>1103.060408</td>\n",
       "    </tr>\n",
       "    <tr>\n",
       "      <th>22</th>\n",
       "      <td>137272</td>\n",
       "      <td>134189056</td>\n",
       "      <td>932.256077</td>\n",
       "    </tr>\n",
       "    <tr>\n",
       "      <th>23</th>\n",
       "      <td>160872</td>\n",
       "      <td>134189056</td>\n",
       "      <td>795.493661</td>\n",
       "    </tr>\n",
       "    <tr>\n",
       "      <th>24</th>\n",
       "      <td>87935</td>\n",
       "      <td>134189056</td>\n",
       "      <td>1455.309675</td>\n",
       "    </tr>\n",
       "    <tr>\n",
       "      <th>25</th>\n",
       "      <td>82412</td>\n",
       "      <td>134189056</td>\n",
       "      <td>1552.840075</td>\n",
       "    </tr>\n",
       "    <tr>\n",
       "      <th>26</th>\n",
       "      <td>76448</td>\n",
       "      <td>134189056</td>\n",
       "      <td>1673.983051</td>\n",
       "    </tr>\n",
       "    <tr>\n",
       "      <th>27</th>\n",
       "      <td>63385</td>\n",
       "      <td>134189056</td>\n",
       "      <td>2018.973831</td>\n",
       "    </tr>\n",
       "    <tr>\n",
       "      <th>28</th>\n",
       "      <td>130470</td>\n",
       "      <td>134189056</td>\n",
       "      <td>980.858866</td>\n",
       "    </tr>\n",
       "    <tr>\n",
       "      <th>29</th>\n",
       "      <td>169088</td>\n",
       "      <td>134189056</td>\n",
       "      <td>756.840558</td>\n",
       "    </tr>\n",
       "    <tr>\n",
       "      <th>30</th>\n",
       "      <td>67470</td>\n",
       "      <td>117415424</td>\n",
       "      <td>1659.642422</td>\n",
       "    </tr>\n",
       "  </tbody>\n",
       "</table>\n",
       "</div>"
      ],
      "text/plain": [
       "          dur       size      bw_mbps\n",
       "step                                 \n",
       "1     8969676  201283584    21.400883\n",
       "2     4938643  201283584    38.868771\n",
       "3     3436547  201283584    55.858100\n",
       "4     2582914  201283584    74.318767\n",
       "5      540996  201283584   354.825145\n",
       "6      515565  201283584   372.327416\n",
       "7      125295  201283584  1532.056222\n",
       "8      163435  201283584  1174.528004\n",
       "9       55500  201283584  3458.720439\n",
       "10      81733  201283584  2348.610529\n",
       "11     129335  201283584  1484.199825\n",
       "12     151079  201283584  1270.586808\n",
       "13     116262  201283584  1651.089646\n",
       "14     166410  201283584  1153.530343\n",
       "15     167225  201283584  1147.908413\n",
       "16     291999  201283584   657.396033\n",
       "17     200940  201283584   955.304988\n",
       "18     186395  201283584  1029.850502\n",
       "19     186498  201283584  1029.281732\n",
       "20     245686  201283584   781.318367\n",
       "21     116016  134189056  1103.060408\n",
       "22     137272  134189056   932.256077\n",
       "23     160872  134189056   795.493661\n",
       "24      87935  134189056  1455.309675\n",
       "25      82412  134189056  1552.840075\n",
       "26      76448  134189056  1673.983051\n",
       "27      63385  134189056  2018.973831\n",
       "28     130470  134189056   980.858866\n",
       "29     169088  134189056   756.840558\n",
       "30      67470  117415424  1659.642422"
      ]
     },
     "execution_count": 27,
     "metadata": {},
     "output_type": "execute_result"
    }
   ],
   "source": [
    "get_item = analyzer.events.query(\"name == 'DYADTorchDataset.__getitem__'\").\\\n",
    "            groupby([\"trange\",\"pid\",\"tid\",\"step\"]).agg({\"dur\":sum, \"size\":sum}).\\\n",
    "            groupby([\"trange\",\"step\"]).agg({\"dur\":max, \"size\":sum}).\\\n",
    "            groupby([\"step\"]).agg({\"dur\":sum, \"size\":sum}).compute()\n",
    "get_item[\"bw_mbps\"] = get_item[\"size\"]/1024**2/get_item[\"dur\"]*1e6\n",
    "get_item\n"
   ]
  },
  {
   "cell_type": "code",
   "execution_count": 26,
   "id": "e856d38d",
   "metadata": {
    "ExecuteTime": {
     "end_time": "2024-01-28T03:58:21.308014Z",
     "start_time": "2024-01-28T03:58:20.483271Z"
    }
   },
   "outputs": [
    {
     "data": {
      "text/html": [
       "<div>\n",
       "<style scoped>\n",
       "    .dataframe tbody tr th:only-of-type {\n",
       "        vertical-align: middle;\n",
       "    }\n",
       "\n",
       "    .dataframe tbody tr th {\n",
       "        vertical-align: top;\n",
       "    }\n",
       "\n",
       "    .dataframe thead th {\n",
       "        text-align: right;\n",
       "    }\n",
       "</style>\n",
       "<table border=\"1\" class=\"dataframe\">\n",
       "  <thead>\n",
       "    <tr style=\"text-align: right;\">\n",
       "      <th></th>\n",
       "      <th>name</th>\n",
       "      <th>cat</th>\n",
       "      <th>pid</th>\n",
       "      <th>tid</th>\n",
       "      <th>ts</th>\n",
       "      <th>te</th>\n",
       "      <th>dur</th>\n",
       "      <th>tinterval</th>\n",
       "      <th>trange</th>\n",
       "      <th>hostname</th>\n",
       "      <th>compute_time</th>\n",
       "      <th>io_time</th>\n",
       "      <th>app_io_time</th>\n",
       "      <th>total_time</th>\n",
       "      <th>filename</th>\n",
       "      <th>phase</th>\n",
       "      <th>size</th>\n",
       "    </tr>\n",
       "  </thead>\n",
       "  <tbody>\n",
       "    <tr>\n",
       "      <th>739</th>\n",
       "      <td>DYADTorchDataset.__getitem__</td>\n",
       "      <td>data_loader</td>\n",
       "      <td>11</td>\n",
       "      <td>2402121</td>\n",
       "      <td>86860472</td>\n",
       "      <td>88211479</td>\n",
       "      <td>1351007</td>\n",
       "      <td>&lt;NA&gt;</td>\n",
       "      <td>86.0</td>\n",
       "      <td>corona173</td>\n",
       "      <td>&lt;NA&gt;</td>\n",
       "      <td>&lt;NA&gt;</td>\n",
       "      <td>&lt;NA&gt;</td>\n",
       "      <td>0</td>\n",
       "      <td>/p/lustre2/haridev/dyad/dlio_benchmark/dyad_un...</td>\n",
       "      <td>0</td>\n",
       "      <td>2096704</td>\n",
       "    </tr>\n",
       "    <tr>\n",
       "      <th>1309</th>\n",
       "      <td>DYADTorchDataset.__getitem__</td>\n",
       "      <td>data_loader</td>\n",
       "      <td>11</td>\n",
       "      <td>2402121</td>\n",
       "      <td>88211568</td>\n",
       "      <td>88916497</td>\n",
       "      <td>704929</td>\n",
       "      <td>&lt;NA&gt;</td>\n",
       "      <td>88.0</td>\n",
       "      <td>corona173</td>\n",
       "      <td>&lt;NA&gt;</td>\n",
       "      <td>&lt;NA&gt;</td>\n",
       "      <td>&lt;NA&gt;</td>\n",
       "      <td>0</td>\n",
       "      <td>/p/lustre2/haridev/dyad/dlio_benchmark/dyad_un...</td>\n",
       "      <td>0</td>\n",
       "      <td>2096704</td>\n",
       "    </tr>\n",
       "    <tr>\n",
       "      <th>1816</th>\n",
       "      <td>DYADTorchDataset.__getitem__</td>\n",
       "      <td>data_loader</td>\n",
       "      <td>11</td>\n",
       "      <td>2402121</td>\n",
       "      <td>88916583</td>\n",
       "      <td>89507140</td>\n",
       "      <td>590557</td>\n",
       "      <td>&lt;NA&gt;</td>\n",
       "      <td>88.0</td>\n",
       "      <td>corona173</td>\n",
       "      <td>&lt;NA&gt;</td>\n",
       "      <td>&lt;NA&gt;</td>\n",
       "      <td>&lt;NA&gt;</td>\n",
       "      <td>0</td>\n",
       "      <td>/p/lustre2/haridev/dyad/dlio_benchmark/dyad_un...</td>\n",
       "      <td>0</td>\n",
       "      <td>2096704</td>\n",
       "    </tr>\n",
       "    <tr>\n",
       "      <th>2413</th>\n",
       "      <td>DYADTorchDataset.__getitem__</td>\n",
       "      <td>data_loader</td>\n",
       "      <td>11</td>\n",
       "      <td>2402121</td>\n",
       "      <td>89507219</td>\n",
       "      <td>90053700</td>\n",
       "      <td>546481</td>\n",
       "      <td>&lt;NA&gt;</td>\n",
       "      <td>89.0</td>\n",
       "      <td>corona173</td>\n",
       "      <td>&lt;NA&gt;</td>\n",
       "      <td>&lt;NA&gt;</td>\n",
       "      <td>&lt;NA&gt;</td>\n",
       "      <td>0</td>\n",
       "      <td>/p/lustre2/haridev/dyad/dlio_benchmark/dyad_un...</td>\n",
       "      <td>0</td>\n",
       "      <td>2096704</td>\n",
       "    </tr>\n",
       "    <tr>\n",
       "      <th>2482</th>\n",
       "      <td>DYADTorchDataset.__getitem__</td>\n",
       "      <td>data_loader</td>\n",
       "      <td>11</td>\n",
       "      <td>2402121</td>\n",
       "      <td>90059598</td>\n",
       "      <td>90083467</td>\n",
       "      <td>23869</td>\n",
       "      <td>&lt;NA&gt;</td>\n",
       "      <td>90.0</td>\n",
       "      <td>corona173</td>\n",
       "      <td>&lt;NA&gt;</td>\n",
       "      <td>&lt;NA&gt;</td>\n",
       "      <td>&lt;NA&gt;</td>\n",
       "      <td>0</td>\n",
       "      <td>/p/lustre2/haridev/dyad/dlio_benchmark/dyad_un...</td>\n",
       "      <td>0</td>\n",
       "      <td>2096704</td>\n",
       "    </tr>\n",
       "    <tr>\n",
       "      <th>...</th>\n",
       "      <td>...</td>\n",
       "      <td>...</td>\n",
       "      <td>...</td>\n",
       "      <td>...</td>\n",
       "      <td>...</td>\n",
       "      <td>...</td>\n",
       "      <td>...</td>\n",
       "      <td>...</td>\n",
       "      <td>...</td>\n",
       "      <td>...</td>\n",
       "      <td>...</td>\n",
       "      <td>...</td>\n",
       "      <td>...</td>\n",
       "      <td>...</td>\n",
       "      <td>...</td>\n",
       "      <td>...</td>\n",
       "      <td>...</td>\n",
       "    </tr>\n",
       "    <tr>\n",
       "      <th>3808</th>\n",
       "      <td>DYADTorchDataset.__getitem__</td>\n",
       "      <td>data_loader</td>\n",
       "      <td>11</td>\n",
       "      <td>2402843</td>\n",
       "      <td>102975109</td>\n",
       "      <td>102990564</td>\n",
       "      <td>15455</td>\n",
       "      <td>&lt;NA&gt;</td>\n",
       "      <td>102.0</td>\n",
       "      <td>corona173</td>\n",
       "      <td>&lt;NA&gt;</td>\n",
       "      <td>&lt;NA&gt;</td>\n",
       "      <td>&lt;NA&gt;</td>\n",
       "      <td>0</td>\n",
       "      <td>/p/lustre2/haridev/dyad/dlio_benchmark/dyad_un...</td>\n",
       "      <td>0</td>\n",
       "      <td>2096704</td>\n",
       "    </tr>\n",
       "    <tr>\n",
       "      <th>3875</th>\n",
       "      <td>DYADTorchDataset.__getitem__</td>\n",
       "      <td>data_loader</td>\n",
       "      <td>11</td>\n",
       "      <td>2402843</td>\n",
       "      <td>103018750</td>\n",
       "      <td>103026998</td>\n",
       "      <td>8248</td>\n",
       "      <td>&lt;NA&gt;</td>\n",
       "      <td>103.0</td>\n",
       "      <td>corona173</td>\n",
       "      <td>&lt;NA&gt;</td>\n",
       "      <td>&lt;NA&gt;</td>\n",
       "      <td>&lt;NA&gt;</td>\n",
       "      <td>0</td>\n",
       "      <td>/p/lustre2/haridev/dyad/dlio_benchmark/dyad_un...</td>\n",
       "      <td>0</td>\n",
       "      <td>2096704</td>\n",
       "    </tr>\n",
       "    <tr>\n",
       "      <th>3942</th>\n",
       "      <td>DYADTorchDataset.__getitem__</td>\n",
       "      <td>data_loader</td>\n",
       "      <td>11</td>\n",
       "      <td>2402843</td>\n",
       "      <td>103027081</td>\n",
       "      <td>103051099</td>\n",
       "      <td>24018</td>\n",
       "      <td>&lt;NA&gt;</td>\n",
       "      <td>103.0</td>\n",
       "      <td>corona173</td>\n",
       "      <td>&lt;NA&gt;</td>\n",
       "      <td>&lt;NA&gt;</td>\n",
       "      <td>&lt;NA&gt;</td>\n",
       "      <td>0</td>\n",
       "      <td>/p/lustre2/haridev/dyad/dlio_benchmark/dyad_un...</td>\n",
       "      <td>0</td>\n",
       "      <td>2096704</td>\n",
       "    </tr>\n",
       "    <tr>\n",
       "      <th>4009</th>\n",
       "      <td>DYADTorchDataset.__getitem__</td>\n",
       "      <td>data_loader</td>\n",
       "      <td>11</td>\n",
       "      <td>2402843</td>\n",
       "      <td>103051177</td>\n",
       "      <td>103068757</td>\n",
       "      <td>17580</td>\n",
       "      <td>&lt;NA&gt;</td>\n",
       "      <td>103.0</td>\n",
       "      <td>corona173</td>\n",
       "      <td>&lt;NA&gt;</td>\n",
       "      <td>&lt;NA&gt;</td>\n",
       "      <td>&lt;NA&gt;</td>\n",
       "      <td>0</td>\n",
       "      <td>/p/lustre2/haridev/dyad/dlio_benchmark/dyad_un...</td>\n",
       "      <td>0</td>\n",
       "      <td>2096704</td>\n",
       "    </tr>\n",
       "    <tr>\n",
       "      <th>4076</th>\n",
       "      <td>DYADTorchDataset.__getitem__</td>\n",
       "      <td>data_loader</td>\n",
       "      <td>11</td>\n",
       "      <td>2402843</td>\n",
       "      <td>103068837</td>\n",
       "      <td>103078514</td>\n",
       "      <td>9677</td>\n",
       "      <td>&lt;NA&gt;</td>\n",
       "      <td>103.0</td>\n",
       "      <td>corona173</td>\n",
       "      <td>&lt;NA&gt;</td>\n",
       "      <td>&lt;NA&gt;</td>\n",
       "      <td>&lt;NA&gt;</td>\n",
       "      <td>0</td>\n",
       "      <td>/p/lustre2/haridev/dyad/dlio_benchmark/dyad_un...</td>\n",
       "      <td>0</td>\n",
       "      <td>2096704</td>\n",
       "    </tr>\n",
       "  </tbody>\n",
       "</table>\n",
       "<p>2560 rows × 17 columns</p>\n",
       "</div>"
      ],
      "text/plain": [
       "                              name          cat  pid      tid         ts  \\\n",
       "739   DYADTorchDataset.__getitem__  data_loader   11  2402121   86860472   \n",
       "1309  DYADTorchDataset.__getitem__  data_loader   11  2402121   88211568   \n",
       "1816  DYADTorchDataset.__getitem__  data_loader   11  2402121   88916583   \n",
       "2413  DYADTorchDataset.__getitem__  data_loader   11  2402121   89507219   \n",
       "2482  DYADTorchDataset.__getitem__  data_loader   11  2402121   90059598   \n",
       "...                            ...          ...  ...      ...        ...   \n",
       "3808  DYADTorchDataset.__getitem__  data_loader   11  2402843  102975109   \n",
       "3875  DYADTorchDataset.__getitem__  data_loader   11  2402843  103018750   \n",
       "3942  DYADTorchDataset.__getitem__  data_loader   11  2402843  103027081   \n",
       "4009  DYADTorchDataset.__getitem__  data_loader   11  2402843  103051177   \n",
       "4076  DYADTorchDataset.__getitem__  data_loader   11  2402843  103068837   \n",
       "\n",
       "             te      dur  tinterval  trange   hostname  compute_time  io_time  \\\n",
       "739    88211479  1351007       <NA>    86.0  corona173          <NA>     <NA>   \n",
       "1309   88916497   704929       <NA>    88.0  corona173          <NA>     <NA>   \n",
       "1816   89507140   590557       <NA>    88.0  corona173          <NA>     <NA>   \n",
       "2413   90053700   546481       <NA>    89.0  corona173          <NA>     <NA>   \n",
       "2482   90083467    23869       <NA>    90.0  corona173          <NA>     <NA>   \n",
       "...         ...      ...        ...     ...        ...           ...      ...   \n",
       "3808  102990564    15455       <NA>   102.0  corona173          <NA>     <NA>   \n",
       "3875  103026998     8248       <NA>   103.0  corona173          <NA>     <NA>   \n",
       "3942  103051099    24018       <NA>   103.0  corona173          <NA>     <NA>   \n",
       "4009  103068757    17580       <NA>   103.0  corona173          <NA>     <NA>   \n",
       "4076  103078514     9677       <NA>   103.0  corona173          <NA>     <NA>   \n",
       "\n",
       "      app_io_time  total_time  \\\n",
       "739          <NA>           0   \n",
       "1309         <NA>           0   \n",
       "1816         <NA>           0   \n",
       "2413         <NA>           0   \n",
       "2482         <NA>           0   \n",
       "...           ...         ...   \n",
       "3808         <NA>           0   \n",
       "3875         <NA>           0   \n",
       "3942         <NA>           0   \n",
       "4009         <NA>           0   \n",
       "4076         <NA>           0   \n",
       "\n",
       "                                               filename  phase     size  \n",
       "739   /p/lustre2/haridev/dyad/dlio_benchmark/dyad_un...      0  2096704  \n",
       "1309  /p/lustre2/haridev/dyad/dlio_benchmark/dyad_un...      0  2096704  \n",
       "1816  /p/lustre2/haridev/dyad/dlio_benchmark/dyad_un...      0  2096704  \n",
       "2413  /p/lustre2/haridev/dyad/dlio_benchmark/dyad_un...      0  2096704  \n",
       "2482  /p/lustre2/haridev/dyad/dlio_benchmark/dyad_un...      0  2096704  \n",
       "...                                                 ...    ...      ...  \n",
       "3808  /p/lustre2/haridev/dyad/dlio_benchmark/dyad_un...      0  2096704  \n",
       "3875  /p/lustre2/haridev/dyad/dlio_benchmark/dyad_un...      0  2096704  \n",
       "3942  /p/lustre2/haridev/dyad/dlio_benchmark/dyad_un...      0  2096704  \n",
       "4009  /p/lustre2/haridev/dyad/dlio_benchmark/dyad_un...      0  2096704  \n",
       "4076  /p/lustre2/haridev/dyad/dlio_benchmark/dyad_un...      0  2096704  \n",
       "\n",
       "[2560 rows x 17 columns]"
      ]
     },
     "execution_count": 26,
     "metadata": {},
     "output_type": "execute_result"
    }
   ],
   "source": [
    "analyzer.events.query(\"name == 'DYADTorchDataset.__getitem__'\").compute()"
   ]
  },
  {
   "cell_type": "code",
   "execution_count": 23,
   "id": "ad2d7964-1ef7-4bc3-808f-8aad6e1d6d8c",
   "metadata": {
    "ExecuteTime": {
     "end_time": "2024-01-28T03:38:58.349304Z",
     "start_time": "2024-01-28T03:38:57.520470Z"
    },
    "scrolled": true
   },
   "outputs": [
    {
     "data": {
      "image/png": "[encoded data removed]",
      "text/plain": [
       "<Figure size 800x300 with 2 Axes>"
      ]
     },
     "metadata": {},
     "output_type": "display_data"
    }
   ],
   "source": [
    "fig, ax1, ax2 = analyzer.plots.time_bw_timeline(\n",
    "    bw_unit='gb',\n",
    "    figsize=(8, 3),\n",
    "    line1_label='POSIX I/O Time',\n",
    "    line2_label='POSIX I/O Bandwidth',\n",
    "    time_col='io_time',\n",
    "    x_num_ticks=8,\n",
    "    y_num_ticks=5,\n",
    ")"
   ]
  },
  {
   "cell_type": "code",
   "execution_count": 23,
   "id": "e49f767c-ee45-4cbd-b91d-5923a31c7a69",
   "metadata": {
    "ExecuteTime": {
     "end_time": "2024-01-28T03:36:19.768343Z",
     "start_time": "2024-01-28T03:36:19.614540Z"
    },
    "scrolled": true
   },
   "outputs": [
    {
     "data": {
      "text/plain": [
       "name\n",
       "__fxstat64     0.000000\n",
       "__xstat        0.000000\n",
       "__xstat64      0.000000\n",
       "close          0.000000\n",
       "fcntl          0.000000\n",
       "fsync          0.000000\n",
       "lseek          0.000000\n",
       "lseek64        0.000000\n",
       "mkdir          0.000000\n",
       "open           0.000000\n",
       "open64         0.000000\n",
       "opendir        0.000000\n",
       "read          72.648899\n",
       "readlink       0.000000\n",
       "write          1.905793\n",
       "Name: size, dtype: double[pyarrow]"
      ]
     },
     "execution_count": 23,
     "metadata": {},
     "output_type": "execute_result"
    }
   ],
   "source": [
    "analyzer.events.query(\"cat == 'POSIX'\").groupby(\"name\")[\"size\"].sum().compute() / 1024**3"
   ]
  },
  {
   "cell_type": "code",
   "execution_count": 24,
   "id": "ec3d64c9",
   "metadata": {
    "ExecuteTime": {
     "end_time": "2024-01-28T03:39:23.867727Z",
     "start_time": "2024-01-28T03:39:23.769965Z"
    }
   },
   "outputs": [
    {
     "data": {
      "text/plain": [
       "(0, 1940246350)"
      ]
     },
     "execution_count": 24,
     "metadata": {},
     "output_type": "execute_result"
    }
   ],
   "source": [
    "dask.compute(analyzer.events[\"ts\"].min(), analyzer.events[\"te\"].max()) "
   ]
  },
  {
   "cell_type": "code",
   "execution_count": 26,
   "id": "ea849078",
   "metadata": {
    "ExecuteTime": {
     "end_time": "2024-01-28T03:40:54.924615Z",
     "start_time": "2024-01-28T03:40:54.849751Z"
    }
   },
   "outputs": [
    {
     "data": {
      "text/plain": [
       "0           NPZReader.__init__\n",
       "1                Dyad.__init__\n",
       "2                     readlink\n",
       "3                    Dyad.init\n",
       "4            Dyad.get_metadata\n",
       "                ...           \n",
       "96            ucx_recv_no_wait\n",
       "97           dyad_dtl_ucx_recv\n",
       "98               dyad_get_data\n",
       "99             dyad_cons_store\n",
       "100    dyad_consume_w_metadata\n",
       "Name: name, Length: 101, dtype: string"
      ]
     },
     "execution_count": 26,
     "metadata": {},
     "output_type": "execute_result"
    }
   ],
   "source": [
    "analyzer.events[\"name\"].unique().compute()"
   ]
  },
  {
   "cell_type": "code",
   "execution_count": 118,
   "id": "b9ceb5ee",
   "metadata": {
    "ExecuteTime": {
     "end_time": "2024-01-27T16:39:53.151364Z",
     "start_time": "2024-01-27T16:39:53.094219Z"
    }
   },
   "outputs": [
    {
     "data": {
      "text/plain": [
       "634.4538822499621"
      ]
     },
     "execution_count": 118,
     "metadata": {},
     "output_type": "execute_result"
    }
   ],
   "source": [
    "mean/ 3152.028777 * 1e6"
   ]
  },
  {
   "cell_type": "code",
   "execution_count": 113,
   "id": "7a003bb2",
   "metadata": {
    "ExecuteTime": {
     "end_time": "2024-01-27T16:37:43.231265Z",
     "start_time": "2024-01-27T16:37:43.075202Z"
    }
   },
   "outputs": [],
   "source": [
    "size = analyzer.events.query(\"name == 'dyad_fetch_request_cb'\")['size'].sum().compute() / 1024**2"
   ]
  },
  {
   "cell_type": "code",
   "execution_count": 114,
   "id": "1abadbb1",
   "metadata": {
    "ExecuteTime": {
     "end_time": "2024-01-27T16:37:43.361174Z",
     "start_time": "2024-01-27T16:37:43.234328Z"
    }
   },
   "outputs": [
    {
     "data": {
      "text/html": [
       "<div>\n",
       "<style scoped>\n",
       "    .dataframe tbody tr th:only-of-type {\n",
       "        vertical-align: middle;\n",
       "    }\n",
       "\n",
       "    .dataframe tbody tr th {\n",
       "        vertical-align: top;\n",
       "    }\n",
       "\n",
       "    .dataframe thead th {\n",
       "        text-align: right;\n",
       "    }\n",
       "</style>\n",
       "<table border=\"1\" class=\"dataframe\">\n",
       "  <thead>\n",
       "    <tr style=\"text-align: right;\">\n",
       "      <th></th>\n",
       "      <th>name</th>\n",
       "      <th>cat</th>\n",
       "      <th>pid</th>\n",
       "      <th>tid</th>\n",
       "      <th>ts</th>\n",
       "      <th>te</th>\n",
       "      <th>dur</th>\n",
       "      <th>tinterval</th>\n",
       "      <th>trange</th>\n",
       "      <th>hostname</th>\n",
       "      <th>compute_time</th>\n",
       "      <th>io_time</th>\n",
       "      <th>app_io_time</th>\n",
       "      <th>total_time</th>\n",
       "      <th>filename</th>\n",
       "      <th>phase</th>\n",
       "      <th>size</th>\n",
       "    </tr>\n",
       "  </thead>\n",
       "  <tbody>\n",
       "    <tr>\n",
       "      <th>35</th>\n",
       "      <td>dyad_fetch_request_cb</td>\n",
       "      <td>C_APP</td>\n",
       "      <td>0</td>\n",
       "      <td>638415</td>\n",
       "      <td>1917347184</td>\n",
       "      <td>1917365181</td>\n",
       "      <td>17997</td>\n",
       "      <td>&lt;NA&gt;</td>\n",
       "      <td>1917.0</td>\n",
       "      <td>corona171</td>\n",
       "      <td>&lt;NA&gt;</td>\n",
       "      <td>&lt;NA&gt;</td>\n",
       "      <td>&lt;NA&gt;</td>\n",
       "      <td>0</td>\n",
       "      <td>&lt;NA&gt;</td>\n",
       "      <td>0</td>\n",
       "      <td>2096960</td>\n",
       "    </tr>\n",
       "    <tr>\n",
       "      <th>58</th>\n",
       "      <td>dyad_fetch_request_cb</td>\n",
       "      <td>C_APP</td>\n",
       "      <td>0</td>\n",
       "      <td>638415</td>\n",
       "      <td>1918851200</td>\n",
       "      <td>1918870204</td>\n",
       "      <td>19004</td>\n",
       "      <td>&lt;NA&gt;</td>\n",
       "      <td>1918.0</td>\n",
       "      <td>corona171</td>\n",
       "      <td>&lt;NA&gt;</td>\n",
       "      <td>&lt;NA&gt;</td>\n",
       "      <td>&lt;NA&gt;</td>\n",
       "      <td>0</td>\n",
       "      <td>&lt;NA&gt;</td>\n",
       "      <td>0</td>\n",
       "      <td>2096960</td>\n",
       "    </tr>\n",
       "    <tr>\n",
       "      <th>81</th>\n",
       "      <td>dyad_fetch_request_cb</td>\n",
       "      <td>C_APP</td>\n",
       "      <td>0</td>\n",
       "      <td>638415</td>\n",
       "      <td>1919025811</td>\n",
       "      <td>1919032256</td>\n",
       "      <td>6445</td>\n",
       "      <td>&lt;NA&gt;</td>\n",
       "      <td>1919.0</td>\n",
       "      <td>corona171</td>\n",
       "      <td>&lt;NA&gt;</td>\n",
       "      <td>&lt;NA&gt;</td>\n",
       "      <td>&lt;NA&gt;</td>\n",
       "      <td>0</td>\n",
       "      <td>&lt;NA&gt;</td>\n",
       "      <td>0</td>\n",
       "      <td>2096960</td>\n",
       "    </tr>\n",
       "    <tr>\n",
       "      <th>104</th>\n",
       "      <td>dyad_fetch_request_cb</td>\n",
       "      <td>C_APP</td>\n",
       "      <td>0</td>\n",
       "      <td>638415</td>\n",
       "      <td>1919224203</td>\n",
       "      <td>1919233275</td>\n",
       "      <td>9072</td>\n",
       "      <td>&lt;NA&gt;</td>\n",
       "      <td>1919.0</td>\n",
       "      <td>corona171</td>\n",
       "      <td>&lt;NA&gt;</td>\n",
       "      <td>&lt;NA&gt;</td>\n",
       "      <td>&lt;NA&gt;</td>\n",
       "      <td>0</td>\n",
       "      <td>&lt;NA&gt;</td>\n",
       "      <td>0</td>\n",
       "      <td>2096960</td>\n",
       "    </tr>\n",
       "    <tr>\n",
       "      <th>127</th>\n",
       "      <td>dyad_fetch_request_cb</td>\n",
       "      <td>C_APP</td>\n",
       "      <td>0</td>\n",
       "      <td>638415</td>\n",
       "      <td>1919505055</td>\n",
       "      <td>1919515041</td>\n",
       "      <td>9986</td>\n",
       "      <td>&lt;NA&gt;</td>\n",
       "      <td>1919.0</td>\n",
       "      <td>corona171</td>\n",
       "      <td>&lt;NA&gt;</td>\n",
       "      <td>&lt;NA&gt;</td>\n",
       "      <td>&lt;NA&gt;</td>\n",
       "      <td>0</td>\n",
       "      <td>&lt;NA&gt;</td>\n",
       "      <td>0</td>\n",
       "      <td>2096960</td>\n",
       "    </tr>\n",
       "  </tbody>\n",
       "</table>\n",
       "</div>"
      ],
      "text/plain": [
       "                      name    cat  pid     tid          ts          te    dur  \\\n",
       "35   dyad_fetch_request_cb  C_APP    0  638415  1917347184  1917365181  17997   \n",
       "58   dyad_fetch_request_cb  C_APP    0  638415  1918851200  1918870204  19004   \n",
       "81   dyad_fetch_request_cb  C_APP    0  638415  1919025811  1919032256   6445   \n",
       "104  dyad_fetch_request_cb  C_APP    0  638415  1919224203  1919233275   9072   \n",
       "127  dyad_fetch_request_cb  C_APP    0  638415  1919505055  1919515041   9986   \n",
       "\n",
       "     tinterval  trange   hostname  compute_time  io_time  app_io_time  \\\n",
       "35        <NA>  1917.0  corona171          <NA>     <NA>         <NA>   \n",
       "58        <NA>  1918.0  corona171          <NA>     <NA>         <NA>   \n",
       "81        <NA>  1919.0  corona171          <NA>     <NA>         <NA>   \n",
       "104       <NA>  1919.0  corona171          <NA>     <NA>         <NA>   \n",
       "127       <NA>  1919.0  corona171          <NA>     <NA>         <NA>   \n",
       "\n",
       "     total_time filename  phase     size  \n",
       "35            0     <NA>      0  2096960  \n",
       "58            0     <NA>      0  2096960  \n",
       "81            0     <NA>      0  2096960  \n",
       "104           0     <NA>      0  2096960  \n",
       "127           0     <NA>      0  2096960  "
      ]
     },
     "execution_count": 114,
     "metadata": {},
     "output_type": "execute_result"
    }
   ],
   "source": [
    "analyzer.events.query(\"name == 'dyad_fetch_request_cb'\").head()"
   ]
  },
  {
   "cell_type": "code",
   "execution_count": 115,
   "id": "0be81363",
   "metadata": {
    "ExecuteTime": {
     "end_time": "2024-01-27T16:37:43.593738Z",
     "start_time": "2024-01-27T16:37:43.365044Z"
    }
   },
   "outputs": [],
   "source": [
    "time = analyzer.events.query(\"name == 'dyad_dtl_ucx_send'\").groupby([\"trange\",\"pid\",\"tid\", \"name\"])[\"dur\"].sum().groupby([\"trange\", \"name\"]).max().groupby([ \"name\"]).sum().compute() / 1e6"
   ]
  },
  {
   "cell_type": "code",
   "execution_count": 116,
   "id": "0d86fd38",
   "metadata": {
    "ExecuteTime": {
     "end_time": "2024-01-27T16:37:43.647967Z",
     "start_time": "2024-01-27T16:37:43.602863Z"
    }
   },
   "outputs": [
    {
     "data": {
      "text/plain": [
       "name\n",
       "dyad_dtl_ucx_send    873.510256\n",
       "Name: dur, dtype: double[pyarrow]"
      ]
     },
     "execution_count": 116,
     "metadata": {},
     "output_type": "execute_result"
    }
   ],
   "source": [
    "size/ time"
   ]
  },
  {
   "cell_type": "code",
   "execution_count": 88,
   "id": "86617ba5",
   "metadata": {
    "ExecuteTime": {
     "end_time": "2024-01-27T16:37:06.323906Z",
     "start_time": "2024-01-27T16:37:06.285590Z"
    }
   },
   "outputs": [
    {
     "data": {
      "text/plain": [
       "name\n",
       "dyad_dtl_ucx_send    147.190225\n",
       "Name: dur, dtype: double[pyarrow]"
      ]
     },
     "execution_count": 88,
     "metadata": {},
     "output_type": "execute_result"
    }
   ],
   "source": [
    "size/ time"
   ]
  },
  {
   "cell_type": "code",
   "execution_count": 30,
   "id": "c16aecd3",
   "metadata": {
    "ExecuteTime": {
     "end_time": "2024-01-28T03:42:40.459861Z",
     "start_time": "2024-01-28T03:42:39.640360Z"
    }
   },
   "outputs": [
    {
     "data": {
      "text/html": [
       "<div>\n",
       "<style scoped>\n",
       "    .dataframe tbody tr th:only-of-type {\n",
       "        vertical-align: middle;\n",
       "    }\n",
       "\n",
       "    .dataframe tbody tr th {\n",
       "        vertical-align: top;\n",
       "    }\n",
       "\n",
       "    .dataframe thead th {\n",
       "        text-align: right;\n",
       "    }\n",
       "</style>\n",
       "<table border=\"1\" class=\"dataframe\">\n",
       "  <thead>\n",
       "    <tr style=\"text-align: right;\">\n",
       "      <th></th>\n",
       "      <th>name</th>\n",
       "      <th>cat</th>\n",
       "      <th>pid</th>\n",
       "      <th>tid</th>\n",
       "      <th>ts</th>\n",
       "      <th>te</th>\n",
       "      <th>dur</th>\n",
       "      <th>tinterval</th>\n",
       "      <th>trange</th>\n",
       "      <th>hostname</th>\n",
       "      <th>compute_time</th>\n",
       "      <th>io_time</th>\n",
       "      <th>app_io_time</th>\n",
       "      <th>total_time</th>\n",
       "      <th>filename</th>\n",
       "      <th>phase</th>\n",
       "      <th>size</th>\n",
       "      <th>index</th>\n",
       "    </tr>\n",
       "  </thead>\n",
       "  <tbody>\n",
       "    <tr>\n",
       "      <th>0</th>\n",
       "      <td>NPZReader.__init__</td>\n",
       "      <td>reader</td>\n",
       "      <td>2</td>\n",
       "      <td>618610</td>\n",
       "      <td>0</td>\n",
       "      <td>22</td>\n",
       "      <td>22</td>\n",
       "      <td>&lt;NA&gt;</td>\n",
       "      <td>0.0</td>\n",
       "      <td>corona171</td>\n",
       "      <td>&lt;NA&gt;</td>\n",
       "      <td>&lt;NA&gt;</td>\n",
       "      <td>&lt;NA&gt;</td>\n",
       "      <td>0</td>\n",
       "      <td>&lt;NA&gt;</td>\n",
       "      <td>0</td>\n",
       "      <td>&lt;NA&gt;</td>\n",
       "      <td>&lt;NA&gt;</td>\n",
       "    </tr>\n",
       "    <tr>\n",
       "      <th>1</th>\n",
       "      <td>Dyad.__init__</td>\n",
       "      <td>DYAD_PY</td>\n",
       "      <td>2</td>\n",
       "      <td>618610</td>\n",
       "      <td>147</td>\n",
       "      <td>336603</td>\n",
       "      <td>336456</td>\n",
       "      <td>&lt;NA&gt;</td>\n",
       "      <td>0.0</td>\n",
       "      <td>corona171</td>\n",
       "      <td>&lt;NA&gt;</td>\n",
       "      <td>&lt;NA&gt;</td>\n",
       "      <td>&lt;NA&gt;</td>\n",
       "      <td>0</td>\n",
       "      <td>&lt;NA&gt;</td>\n",
       "      <td>0</td>\n",
       "      <td>&lt;NA&gt;</td>\n",
       "      <td>&lt;NA&gt;</td>\n",
       "    </tr>\n",
       "    <tr>\n",
       "      <th>0</th>\n",
       "      <td>NPZReader.__init__</td>\n",
       "      <td>reader</td>\n",
       "      <td>13</td>\n",
       "      <td>2332024</td>\n",
       "      <td>94119</td>\n",
       "      <td>94141</td>\n",
       "      <td>22</td>\n",
       "      <td>&lt;NA&gt;</td>\n",
       "      <td>0.0</td>\n",
       "      <td>corona173</td>\n",
       "      <td>&lt;NA&gt;</td>\n",
       "      <td>&lt;NA&gt;</td>\n",
       "      <td>&lt;NA&gt;</td>\n",
       "      <td>0</td>\n",
       "      <td>&lt;NA&gt;</td>\n",
       "      <td>0</td>\n",
       "      <td>&lt;NA&gt;</td>\n",
       "      <td>&lt;NA&gt;</td>\n",
       "    </tr>\n",
       "    <tr>\n",
       "      <th>1</th>\n",
       "      <td>Dyad.__init__</td>\n",
       "      <td>DYAD_PY</td>\n",
       "      <td>13</td>\n",
       "      <td>2332024</td>\n",
       "      <td>94262</td>\n",
       "      <td>404873</td>\n",
       "      <td>310611</td>\n",
       "      <td>&lt;NA&gt;</td>\n",
       "      <td>0.0</td>\n",
       "      <td>corona173</td>\n",
       "      <td>&lt;NA&gt;</td>\n",
       "      <td>&lt;NA&gt;</td>\n",
       "      <td>&lt;NA&gt;</td>\n",
       "      <td>0</td>\n",
       "      <td>&lt;NA&gt;</td>\n",
       "      <td>0</td>\n",
       "      <td>&lt;NA&gt;</td>\n",
       "      <td>&lt;NA&gt;</td>\n",
       "    </tr>\n",
       "    <tr>\n",
       "      <th>0</th>\n",
       "      <td>NPZReader.__init__</td>\n",
       "      <td>reader</td>\n",
       "      <td>7</td>\n",
       "      <td>618617</td>\n",
       "      <td>103126</td>\n",
       "      <td>103148</td>\n",
       "      <td>22</td>\n",
       "      <td>&lt;NA&gt;</td>\n",
       "      <td>0.0</td>\n",
       "      <td>corona171</td>\n",
       "      <td>&lt;NA&gt;</td>\n",
       "      <td>&lt;NA&gt;</td>\n",
       "      <td>&lt;NA&gt;</td>\n",
       "      <td>0</td>\n",
       "      <td>&lt;NA&gt;</td>\n",
       "      <td>0</td>\n",
       "      <td>&lt;NA&gt;</td>\n",
       "      <td>&lt;NA&gt;</td>\n",
       "    </tr>\n",
       "  </tbody>\n",
       "</table>\n",
       "</div>"
      ],
      "text/plain": [
       "                 name      cat  pid      tid      ts      te     dur  \\\n",
       "0  NPZReader.__init__   reader    2   618610       0      22      22   \n",
       "1       Dyad.__init__  DYAD_PY    2   618610     147  336603  336456   \n",
       "0  NPZReader.__init__   reader   13  2332024   94119   94141      22   \n",
       "1       Dyad.__init__  DYAD_PY   13  2332024   94262  404873  310611   \n",
       "0  NPZReader.__init__   reader    7   618617  103126  103148      22   \n",
       "\n",
       "   tinterval  trange   hostname  compute_time  io_time  app_io_time  \\\n",
       "0       <NA>     0.0  corona171          <NA>     <NA>         <NA>   \n",
       "1       <NA>     0.0  corona171          <NA>     <NA>         <NA>   \n",
       "0       <NA>     0.0  corona173          <NA>     <NA>         <NA>   \n",
       "1       <NA>     0.0  corona173          <NA>     <NA>         <NA>   \n",
       "0       <NA>     0.0  corona171          <NA>     <NA>         <NA>   \n",
       "\n",
       "   total_time filename  phase  size  index  \n",
       "0           0     <NA>      0  <NA>   <NA>  \n",
       "1           0     <NA>      0  <NA>   <NA>  \n",
       "0           0     <NA>      0  <NA>   <NA>  \n",
       "1           0     <NA>      0  <NA>   <NA>  \n",
       "0           0     <NA>      0  <NA>   <NA>  "
      ]
     },
     "execution_count": 30,
     "metadata": {},
     "output_type": "execute_result"
    }
   ],
   "source": [
    "analyzer.events.sort_values(\"ts\").head()"
   ]
  },
  {
   "cell_type": "code",
   "execution_count": 101,
   "id": "3181e9d5-7203-48a9-9937-6e0e11062aa2",
   "metadata": {},
   "outputs": [
    {
     "data": {
      "text/plain": [
       "name\n",
       "__fxstat64                      16.374204\n",
       "__xstat64                        0.361658\n",
       "close                           13.684002\n",
       "cpu-gpu-transfer                 0.000000\n",
       "lseek64                          0.204211\n",
       "model-compute-backward-prop      0.000000\n",
       "model-compute-forward-prop       0.000000\n",
       "open64                          15.335467\n",
       "opendir                          1.125259\n",
       "read                           570.389110\n",
       "real_IO.iter                     0.000000\n",
       "real_IO.yield                    0.000000\n",
       "Name: io_time, dtype: double[pyarrow]"
      ]
     },
     "execution_count": 101,
     "metadata": {},
     "output_type": "execute_result"
    }
   ],
   "source": [
    "analyzer.events.groupby([\"trange\",\"pid\",\"tid\", \"name\"])[\"io_time\"].sum().groupby([\"trange\", \"name\"]).max().groupby([ \"name\"]).sum().compute() / 1e6"
   ]
  },
  {
   "cell_type": "code",
   "execution_count": 102,
   "id": "fcc4be8e-889b-4112-a2c4-11b546f9c6d5",
   "metadata": {
    "scrolled": true
   },
   "outputs": [
    {
     "data": {
      "text/plain": [
       "name\n",
       "__fxstat64                     1274819\n",
       "__xstat64                        12515\n",
       "close                          1274797\n",
       "cpu-gpu-transfer                     0\n",
       "lseek64                        2639837\n",
       "model-compute-backward-prop          0\n",
       "model-compute-forward-prop           0\n",
       "open64                         1274822\n",
       "opendir                          12523\n",
       "read                           2549801\n",
       "real_IO.iter                         0\n",
       "real_IO.yield                        0\n",
       "Name: io_time, dtype: int64[pyarrow]"
      ]
     },
     "execution_count": 102,
     "metadata": {},
     "output_type": "execute_result"
    }
   ],
   "source": [
    "analyzer.events.groupby([\"trange\",\"pid\",\"tid\", \"name\"])[\"io_time\"].count().groupby([\"trange\", \"name\"]).sum().groupby([ \"name\"]).sum().compute()"
   ]
  },
  {
   "cell_type": "code",
   "execution_count": 103,
   "id": "5932c31e-931d-4c99-b75c-abe0e53f029a",
   "metadata": {},
   "outputs": [
    {
     "name": "stderr",
     "output_type": "stream",
     "text": [
      "/usr/WS2/haridev/venvs/dlio_profiler_venv/lib/python3.9/site-packages/dask/dataframe/shuffle.py:1032: FutureWarning: Series.fillna with 'method' is deprecated and will raise in a future version. Use obj.ffill() or obj.bfill() instead.\n",
      "  mins = mins.fillna(method=\"bfill\").tolist()\n",
      "/usr/WS2/haridev/venvs/dlio_profiler_venv/lib/python3.9/site-packages/dask/dataframe/shuffle.py:1033: FutureWarning: Series.fillna with 'method' is deprecated and will raise in a future version. Use obj.ffill() or obj.bfill() instead.\n",
      "  maxes = maxes.fillna(method=\"bfill\").tolist()\n"
     ]
    }
   ],
   "source": [
    "timeline = analyzer.plots._create_timeline( analyzer.events).compute()"
   ]
  },
  {
   "cell_type": "code",
   "execution_count": 104,
   "id": "759b786c-b9e9-45bb-9fda-ad987350e39d",
   "metadata": {},
   "outputs": [
    {
     "data": {
      "text/html": [
       "<div>\n",
       "<style scoped>\n",
       "    .dataframe tbody tr th:only-of-type {\n",
       "        vertical-align: middle;\n",
       "    }\n",
       "\n",
       "    .dataframe tbody tr th {\n",
       "        vertical-align: top;\n",
       "    }\n",
       "\n",
       "    .dataframe thead th {\n",
       "        text-align: right;\n",
       "    }\n",
       "</style>\n",
       "<table border=\"1\" class=\"dataframe\">\n",
       "  <thead>\n",
       "    <tr style=\"text-align: right;\">\n",
       "      <th></th>\n",
       "      <th>phase</th>\n",
       "      <th>index</th>\n",
       "      <th>size</th>\n",
       "      <th>io_time</th>\n",
       "      <th>app_io_time</th>\n",
       "    </tr>\n",
       "    <tr>\n",
       "      <th>trange</th>\n",
       "      <th></th>\n",
       "      <th></th>\n",
       "      <th></th>\n",
       "      <th></th>\n",
       "      <th></th>\n",
       "    </tr>\n",
       "  </thead>\n",
       "  <tbody>\n",
       "    <tr>\n",
       "      <th>0.0</th>\n",
       "      <td>2</td>\n",
       "      <td>57203</td>\n",
       "      <td>3286277758</td>\n",
       "      <td>20981624</td>\n",
       "      <td>0</td>\n",
       "    </tr>\n",
       "    <tr>\n",
       "      <th>1.0</th>\n",
       "      <td>2</td>\n",
       "      <td>78084</td>\n",
       "      <td>4536723584</td>\n",
       "      <td>25873271</td>\n",
       "      <td>0</td>\n",
       "    </tr>\n",
       "    <tr>\n",
       "      <th>2.0</th>\n",
       "      <td>2</td>\n",
       "      <td>79012</td>\n",
       "      <td>4498540005</td>\n",
       "      <td>25894710</td>\n",
       "      <td>0</td>\n",
       "    </tr>\n",
       "    <tr>\n",
       "      <th>3.0</th>\n",
       "      <td>2</td>\n",
       "      <td>83955</td>\n",
       "      <td>4835225564</td>\n",
       "      <td>25658236</td>\n",
       "      <td>0</td>\n",
       "    </tr>\n",
       "    <tr>\n",
       "      <th>4.0</th>\n",
       "      <td>2</td>\n",
       "      <td>85769</td>\n",
       "      <td>4902985343</td>\n",
       "      <td>25478400</td>\n",
       "      <td>0</td>\n",
       "    </tr>\n",
       "    <tr>\n",
       "      <th>...</th>\n",
       "      <td>...</td>\n",
       "      <td>...</td>\n",
       "      <td>...</td>\n",
       "      <td>...</td>\n",
       "      <td>...</td>\n",
       "    </tr>\n",
       "    <tr>\n",
       "      <th>23.0</th>\n",
       "      <td>3</td>\n",
       "      <td>0</td>\n",
       "      <td>0</td>\n",
       "      <td>0</td>\n",
       "      <td>30128731</td>\n",
       "    </tr>\n",
       "    <tr>\n",
       "      <th>24.0</th>\n",
       "      <td>1</td>\n",
       "      <td>0</td>\n",
       "      <td>0</td>\n",
       "      <td>0</td>\n",
       "      <td>0</td>\n",
       "    </tr>\n",
       "    <tr>\n",
       "      <th>24.0</th>\n",
       "      <td>3</td>\n",
       "      <td>0</td>\n",
       "      <td>0</td>\n",
       "      <td>0</td>\n",
       "      <td>30003118</td>\n",
       "    </tr>\n",
       "    <tr>\n",
       "      <th>25.0</th>\n",
       "      <td>1</td>\n",
       "      <td>0</td>\n",
       "      <td>0</td>\n",
       "      <td>0</td>\n",
       "      <td>0</td>\n",
       "    </tr>\n",
       "    <tr>\n",
       "      <th>25.0</th>\n",
       "      <td>3</td>\n",
       "      <td>0</td>\n",
       "      <td>0</td>\n",
       "      <td>0</td>\n",
       "      <td>10868765</td>\n",
       "    </tr>\n",
       "  </tbody>\n",
       "</table>\n",
       "<p>78 rows × 5 columns</p>\n",
       "</div>"
      ],
      "text/plain": [
       "        phase  index        size   io_time  app_io_time\n",
       "trange                                                 \n",
       "0.0         2  57203  3286277758  20981624            0\n",
       "1.0         2  78084  4536723584  25873271            0\n",
       "2.0         2  79012  4498540005  25894710            0\n",
       "3.0         2  83955  4835225564  25658236            0\n",
       "4.0         2  85769  4902985343  25478400            0\n",
       "...       ...    ...         ...       ...          ...\n",
       "23.0        3      0           0         0     30128731\n",
       "24.0        1      0           0         0            0\n",
       "24.0        3      0           0         0     30003118\n",
       "25.0        1      0           0         0            0\n",
       "25.0        3      0           0         0     10868765\n",
       "\n",
       "[78 rows x 5 columns]"
      ]
     },
     "execution_count": 104,
     "metadata": {},
     "output_type": "execute_result"
    }
   ],
   "source": [
    "timeline"
   ]
  },
  {
   "cell_type": "code",
   "execution_count": null,
   "id": "1f4f0f32-10f8-44ec-8233-ff265800096a",
   "metadata": {},
   "outputs": [],
   "source": []
  },
  {
   "cell_type": "code",
   "execution_count": 106,
   "id": "479f5f05-1102-4ec1-bdfe-966b7f2a787b",
   "metadata": {},
   "outputs": [],
   "source": [
    "fig.savefig(f'{app_name}_posix_io_time.pdf', format='pdf', bbox_inches='tight')"
   ]
  },
  {
   "cell_type": "code",
   "execution_count": 111,
   "id": "f319b292-e247-41b7-b9e3-7f9592ad1d12",
   "metadata": {
    "scrolled": true
   },
   "outputs": [
    {
     "name": "stderr",
     "output_type": "stream",
     "text": [
      "/usr/WS2/haridev/venvs/dlio_profiler_venv/lib/python3.9/site-packages/dask/dataframe/shuffle.py:1032: FutureWarning: Series.fillna with 'method' is deprecated and will raise in a future version. Use obj.ffill() or obj.bfill() instead.\n",
      "  mins = mins.fillna(method=\"bfill\").tolist()\n",
      "/usr/WS2/haridev/venvs/dlio_profiler_venv/lib/python3.9/site-packages/dask/dataframe/shuffle.py:1033: FutureWarning: Series.fillna with 'method' is deprecated and will raise in a future version. Use obj.ffill() or obj.bfill() instead.\n",
      "  maxes = maxes.fillna(method=\"bfill\").tolist()\n"
     ]
    },
    {
     "data": {
      "image/png": "[encoded data removed]",
      "text/plain": [
       "<Figure size 800x300 with 2 Axes>"
      ]
     },
     "metadata": {},
     "output_type": "display_data"
    }
   ],
   "source": [
    "fig, ax1, ax2 = analyzer.plots.time_bw_timeline(\n",
    "    bw_unit='gb',\n",
    "    figsize=(8, 3),\n",
    "    line1_label='App. I/O Time',\n",
    "    line2_label='App. I/O Bandwidth',\n",
    "    time_col='app_io_time',\n",
    "    x_num_ticks=8,\n",
    "    y_num_ticks=5,\n",
    ")\n",
    "ax2.set_visible(False)"
   ]
  },
  {
   "cell_type": "code",
   "execution_count": 108,
   "id": "d8998e34-ad66-4fca-a7e9-45c4f7015862",
   "metadata": {},
   "outputs": [],
   "source": [
    "fig.savefig(f'{app_name}_app_io_time.pdf', format='pdf', bbox_inches='tight')"
   ]
  },
  {
   "cell_type": "code",
   "execution_count": 109,
   "id": "771c4a6f-88fc-4929-ab48-f87bf6de6098",
   "metadata": {},
   "outputs": [
    {
     "name": "stderr",
     "output_type": "stream",
     "text": [
      "/usr/WS2/haridev/venvs/dlio_profiler_venv/lib/python3.9/site-packages/dask/dataframe/shuffle.py:1032: FutureWarning: Series.fillna with 'method' is deprecated and will raise in a future version. Use obj.ffill() or obj.bfill() instead.\n",
      "  mins = mins.fillna(method=\"bfill\").tolist()\n",
      "/usr/WS2/haridev/venvs/dlio_profiler_venv/lib/python3.9/site-packages/dask/dataframe/shuffle.py:1033: FutureWarning: Series.fillna with 'method' is deprecated and will raise in a future version. Use obj.ffill() or obj.bfill() instead.\n",
      "  maxes = maxes.fillna(method=\"bfill\").tolist()\n"
     ]
    },
    {
     "data": {
      "image/png": "[encoded data removed]",
      "text/plain": [
       "<Figure size 800x300 with 1 Axes>"
      ]
     },
     "metadata": {},
     "output_type": "display_data"
    }
   ],
   "source": [
    "fig, ax = analyzer.plots.xfer_size_timeline(\n",
    "    figsize=(8, 3),\n",
    "    unit='kb',\n",
    "    x_num_ticks=8,\n",
    ")"
   ]
  },
  {
   "cell_type": "code",
   "execution_count": 110,
   "id": "d8f5b274-5727-479f-838c-dca3abd094f3",
   "metadata": {},
   "outputs": [],
   "source": [
    "fig.savefig(f'{app_name}_xfer_size.pdf', format='pdf', bbox_inches='tight')"
   ]
  },
  {
   "cell_type": "code",
   "execution_count": 43,
   "id": "9284c27d-598a-419d-a667-c8816ef3fb71",
   "metadata": {},
   "outputs": [
    {
     "data": {
      "text/plain": [
       "name\n",
       "__fxstat64        NaN\n",
       "__xstat64         NaN\n",
       "close             NaN\n",
       "lseek64           NaN\n",
       "open64            NaN\n",
       "opendir           NaN\n",
       "read          0.05467\n",
       "Name: size, dtype: double[pyarrow]"
      ]
     },
     "execution_count": 43,
     "metadata": {},
     "output_type": "execute_result"
    }
   ],
   "source": [
    "analyzer.events.query(\"cat == 'POSIX'\").groupby(\"name\")[\"size\"].mean().compute() / (1024**2)"
   ]
  },
  {
   "cell_type": "code",
   "execution_count": 44,
   "id": "e52cb7e7-5d51-4126-888b-ee847222b988",
   "metadata": {},
   "outputs": [
    {
     "data": {
      "text/plain": [
       "name\n",
       "__fxstat64     14.238569\n",
       "__xstat64       0.361658\n",
       "close          11.435908\n",
       "lseek64         0.184910\n",
       "open64         13.368323\n",
       "opendir         1.125259\n",
       "read          533.845061\n",
       "Name: io_time, dtype: double[pyarrow]"
      ]
     },
     "execution_count": 44,
     "metadata": {},
     "output_type": "execute_result"
    }
   ],
   "source": [
    "analyzer.events.query(\"cat == 'POSIX'\").groupby([\"trange\",\"pid\",\"tid\",\"name\"])[\"io_time\"].sum().groupby([\"trange\",\"name\"]).max().groupby(\"name\").sum().compute() / 1e6"
   ]
  },
  {
   "cell_type": "code",
   "execution_count": 45,
   "id": "f446524b-6ebb-496f-b595-9f0456fce540",
   "metadata": {},
   "outputs": [
    {
     "data": {
      "text/plain": [
       "io_time       min          0\n",
       "              max    3614661\n",
       "compute_time  min        255\n",
       "              max    3313428\n",
       "app_io_time   min         26\n",
       "              max    9089266\n",
       "dtype: uint64[pyarrow]"
      ]
     },
     "execution_count": 45,
     "metadata": {},
     "output_type": "execute_result"
    }
   ],
   "source": [
    "val = analyzer.events.groupby([\"trange\"]).agg({\"io_time\":[min,max],\"compute_time\":[min,max],\"app_io_time\":[min,max]}).sum().compute()\n",
    "val"
   ]
  },
  {
   "cell_type": "code",
   "execution_count": 46,
   "id": "251dad2f-2e57-4473-bdf2-0a3ab1c4813e",
   "metadata": {},
   "outputs": [
    {
     "data": {
      "text/plain": [
       "9089266"
      ]
     },
     "execution_count": 46,
     "metadata": {},
     "output_type": "execute_result"
    }
   ],
   "source": [
    "val = analyzer.events[\"app_io_time\"].max().compute()\n",
    "val"
   ]
  },
  {
   "cell_type": "code",
   "execution_count": 47,
   "id": "58dfba53-d7e2-4370-a446-e57de17d17d5",
   "metadata": {},
   "outputs": [
    {
     "data": {
      "text/plain": [
       "761.167636"
      ]
     },
     "execution_count": 47,
     "metadata": {},
     "output_type": "execute_result"
    }
   ],
   "source": [
    "import dask\n",
    "val1, val2 = dask.compute(analyzer.events[\"ts\"].min() /1e6 , analyzer.events[\"ts\"].max()/1e6)\n",
    "val2 - val1"
   ]
  },
  {
   "cell_type": "code",
   "execution_count": 48,
   "id": "556446aa-52a0-4bd0-b650-ab6a9c4ed68c",
   "metadata": {},
   "outputs": [
    {
     "data": {
      "text/plain": [
       "0    x3006c0s13b0n0\n",
       "Name: hostname, dtype: string"
      ]
     },
     "execution_count": 48,
     "metadata": {},
     "output_type": "execute_result"
    }
   ],
   "source": [
    "analyzer.events[\"hostname\"].unique().compute()[:2]"
   ]
  },
  {
   "cell_type": "code",
   "execution_count": 49,
   "id": "42c8fafb-8354-466e-a12b-7d5e41e17c31",
   "metadata": {},
   "outputs": [
    {
     "data": {
      "text/plain": [
       "4.01724"
      ]
     },
     "execution_count": 49,
     "metadata": {},
     "output_type": "execute_result"
    }
   ],
   "source": [
    "analyzer.events.query(\"cat == 'POSIX'\").groupby([\"trange\",\"name\"])[\"dur\"].max().sum().compute() / 1e6"
   ]
  },
  {
   "cell_type": "code",
   "execution_count": 50,
   "id": "fce6590b-20e9-4dff-9cde-7bdc4c9d714a",
   "metadata": {},
   "outputs": [
    {
     "data": {
      "text/plain": [
       "0.0"
      ]
     },
     "execution_count": 50,
     "metadata": {},
     "output_type": "execute_result"
    }
   ],
   "source": [
    "analyzer.events.query(\"name == 'open'\").groupby(\"trange\")[\"dur\"].max().sum().compute() / 1e6"
   ]
  },
  {
   "cell_type": "code",
   "execution_count": 51,
   "id": "53cfa467-4b5c-4a2f-bff3-196dd3d92225",
   "metadata": {},
   "outputs": [
    {
     "data": {
      "text/plain": [
       "cat                      name                       \n",
       "POSIX                    __fxstat64                       444448241\n",
       "                         __xstat64                          1041137\n",
       "                         close                            342150487\n",
       "                         lseek64                            5377747\n",
       "                         open64                           417437820\n",
       "                         opendir                            3807348\n",
       "                         read                           16581944325\n",
       "IO                       real_IO.iter                     311363925\n",
       "                         real_IO.yield                   2708610270\n",
       "communication-except-io  cpu-gpu-transfer                  37165103\n",
       "compute                  model-compute-backward-prop      444288066\n",
       "                         model-compute-forward-prop        50921978\n",
       "Name: dur, dtype: uint64[pyarrow]"
      ]
     },
     "execution_count": 51,
     "metadata": {},
     "output_type": "execute_result"
    }
   ],
   "source": [
    "analyzer.events.groupby([\"cat\",\"name\"])[\"dur\"].sum().compute()"
   ]
  },
  {
   "cell_type": "code",
   "execution_count": 52,
   "id": "80672c5c-5a66-4d22-88b6-c97102ff5563",
   "metadata": {},
   "outputs": [
    {
     "data": {
      "text/plain": [
       "(0.9911281578947368,\n",
       " 0.26911763157894736,\n",
       " 0.28428078947368424,\n",
       " 0.04696078947368421,\n",
       " 0.371635)"
      ]
     },
     "execution_count": 52,
     "metadata": {},
     "output_type": "execute_result"
    }
   ],
   "source": [
    "3766287/3.8/1e6, 1022647/3.8/1e6, 1080267/3.8/1e6, 178451/3.8/1e6, (1259124+153089)/3.8/1e6"
   ]
  },
  {
   "cell_type": "code",
   "execution_count": null,
   "id": "0d3d86e7-9dc3-4256-b843-700179459b19",
   "metadata": {},
   "outputs": [],
   "source": []
  }
 ],
 "metadata": {
  "kernelspec": {
   "display_name": "dyad dlio",
   "language": "python",
   "name": "dyad_dlio"
  },
  "language_info": {
   "codemirror_mode": {
    "name": "ipython",
    "version": 3
   },
   "file_extension": ".py",
   "mimetype": "text/x-python",
   "name": "python",
   "nbconvert_exporter": "python",
   "pygments_lexer": "ipython3",
   "version": "3.9.12"
  },
  "varInspector": {
   "cols": {
    "lenName": 16,
    "lenType": 16,
    "lenVar": 40
   },
   "kernels_config": {
    "python": {
     "delete_cmd_postfix": "",
     "delete_cmd_prefix": "del ",
     "library": "var_list.py",
     "varRefreshCmd": "print(var_dic_list())"
    },
    "r": {
     "delete_cmd_postfix": ") ",
     "delete_cmd_prefix": "rm(",
     "library": "var_list.r",
     "varRefreshCmd": "cat(var_dic_list()) "
    }
   },
   "types_to_exclude": [
    "module",
    "function",
    "builtin_function_or_method",
    "instance",
    "_Feature"
   ],
   "window_display": false
  },
  "widgets": {
   "application/vnd.jupyter.widget-state+json": {
    "state": {},
    "version_major": 2,
    "version_minor": 0
   }
  }
 },
 "nbformat": 4,
 "nbformat_minor": 5
}
